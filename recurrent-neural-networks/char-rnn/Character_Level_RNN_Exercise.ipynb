{
 "cells": [
  {
   "cell_type": "markdown",
   "metadata": {},
   "source": [
    "# Character-Level LSTM in PyTorch\n",
    "\n",
    "In this notebook, I'll construct a character-level LSTM with PyTorch. The network will train character by character on some text, then generate new text character by character. As an example, I will train on Anna Karenina. **This model will be able to generate new text based on the text from the book!**\n",
    "\n",
    "This network is based off of Andrej Karpathy's [post on RNNs](http://karpathy.github.io/2015/05/21/rnn-effectiveness/) and [implementation in Torch](https://github.com/karpathy/char-rnn). Below is the general architecture of the character-wise RNN.\n",
    "\n",
    "<img src=\"assets/charseq.jpeg\" width=\"500\">"
   ]
  },
  {
   "cell_type": "markdown",
   "metadata": {},
   "source": [
    "First let's load in our required resources for data loading and model creation."
   ]
  },
  {
   "cell_type": "code",
   "execution_count": 2,
   "metadata": {
    "collapsed": true
   },
   "outputs": [],
   "source": [
    "import numpy as np\n",
    "import torch\n",
    "from torch import nn\n",
    "import torch.nn.functional as F"
   ]
  },
  {
   "cell_type": "markdown",
   "metadata": {},
   "source": [
    "## Load in Data\n",
    "\n",
    "Then, we'll load the Anna Karenina text file and convert it into integers for our network to use. "
   ]
  },
  {
   "cell_type": "code",
   "execution_count": 3,
   "metadata": {
    "collapsed": true
   },
   "outputs": [],
   "source": [
    "# open text file and read in data as `text`\n",
    "with open('data/anna.txt', 'r') as f:\n",
    "    text = f.read()"
   ]
  },
  {
   "cell_type": "markdown",
   "metadata": {},
   "source": [
    "Let's check out the first 100 characters, make sure everything is peachy. According to the [American Book Review](http://americanbookreview.org/100bestlines.asp), this is the 6th best first line of a book ever."
   ]
  },
  {
   "cell_type": "code",
   "execution_count": 4,
   "metadata": {
    "collapsed": true
   },
   "outputs": [
    {
     "output_type": "execute_result",
     "data": {
      "text/plain": [
       "'Chapter 1\\n\\n\\nHappy families are all alike; every unhappy family is unhappy in its own\\nway.\\n\\nEverythin'"
      ]
     },
     "metadata": {},
     "execution_count": 4
    }
   ],
   "source": [
    "text[:100]"
   ]
  },
  {
   "cell_type": "markdown",
   "metadata": {},
   "source": [
    "### Tokenization\n",
    "\n",
    "In the cells, below, I'm creating a couple **dictionaries** to convert the characters to and from integers. Encoding the characters as integers makes it easier to use as input in the network."
   ]
  },
  {
   "cell_type": "code",
   "execution_count": 5,
   "metadata": {},
   "outputs": [
    {
     "output_type": "stream",
     "name": "stdout",
     "text": [
      "(0, '?')\n(1, ';')\n(2, 'd')\n(3, '4')\n(4, '2')\n(5, 'o')\n(6, 'c')\n(7, '`')\n(8, 'V')\n(9, 'g')\n(10, 'E')\n(11, 'C')\n(12, 'K')\n(13, 'p')\n(14, '6')\n(15, 'r')\n(16, 'I')\n(17, 'R')\n(18, 'L')\n(19, 'M')\n(20, 'W')\n(21, 'w')\n(22, '-')\n(23, '9')\n(24, 'P')\n(25, 'x')\n(26, '1')\n(27, 'B')\n(28, ':')\n(29, 'X')\n(30, '(')\n(31, 'y')\n(32, 'U')\n(33, 'k')\n(34, 'O')\n(35, 'J')\n(36, '8')\n(37, 'u')\n(38, 'm')\n(39, 'Z')\n(40, 'z')\n(41, '5')\n(42, '&')\n(43, ',')\n(44, '3')\n(45, ')')\n(46, 'T')\n(47, 'l')\n(48, '\"')\n(49, 'Q')\n(50, 'a')\n(51, 'i')\n(52, 'q')\n(53, '0')\n(54, '%')\n(55, 'N')\n(56, '7')\n(57, 'n')\n(58, 'H')\n(59, 'A')\n(60, 'Y')\n(61, 'b')\n(62, '*')\n(63, 's')\n(64, '\\n')\n(65, '!')\n(66, '$')\n(67, 'f')\n(68, 'S')\n(69, \"'\")\n(70, 't')\n(71, ' ')\n(72, '_')\n(73, '/')\n(74, 'D')\n(75, 'h')\n(76, 'G')\n(77, 'v')\n(78, 'F')\n(79, 'j')\n(80, '.')\n(81, '@')\n(82, 'e')\n?: 0\n;: 1\nd: 2\n4: 3\n2: 4\no: 5\nc: 6\n`: 7\nV: 8\ng: 9\nE: 10\nC: 11\nK: 12\np: 13\n6: 14\nr: 15\nI: 16\nR: 17\nL: 18\nM: 19\nW: 20\nw: 21\n-: 22\n9: 23\nP: 24\nx: 25\n1: 26\nB: 27\n:: 28\nX: 29\n(: 30\ny: 31\nU: 32\nk: 33\nO: 34\nJ: 35\n8: 36\nu: 37\nm: 38\nZ: 39\nz: 40\n5: 41\n&: 42\n,: 43\n3: 44\n): 45\nT: 46\nl: 47\n\": 48\nQ: 49\na: 50\ni: 51\nq: 52\n0: 53\n%: 54\nN: 55\n7: 56\nn: 57\nH: 58\nA: 59\nY: 60\nb: 61\n*: 62\ns: 63\n\n: 64\n!: 65\n$: 66\nf: 67\nS: 68\n': 69\nt: 70\n : 71\n_: 72\n/: 73\nD: 74\nh: 75\nG: 76\nv: 77\nF: 78\nj: 79\n.: 80\n@: 81\ne: 82\n"
     ]
    }
   ],
   "source": [
    "chars = tuple(set(text))\n",
    "for x in enumerate(chars):\n",
    "    print(x)\n",
    "\n",
    "chars = tuple(set(text))\n",
    "int2char = dict(enumerate(chars))\n",
    "char2int = {ch: ii for ii, ch in int2char.items()}\n",
    "\n",
    "for key, value in char2int.items():\n",
    "    print(f\"{key}: {value}\")"
   ]
  },
  {
   "cell_type": "code",
   "execution_count": 6,
   "metadata": {
    "collapsed": true
   },
   "outputs": [],
   "source": [
    "# encode the text and map each character to an integer and vice versa\n",
    "\n",
    "# we create two dictionaries:\n",
    "# 1. int2char, which maps integers to characters\n",
    "# 2. char2int, which maps characters to unique integers\n",
    "chars = tuple(set(text))\n",
    "int2char = dict(enumerate(chars))\n",
    "char2int = {ch: ii for ii, ch in int2char.items()}\n",
    "\n",
    "# encode the text\n",
    "encoded = np.array([char2int[ch] for ch in text])"
   ]
  },
  {
   "cell_type": "markdown",
   "metadata": {},
   "source": [
    "And we can see those same characters from above, encoded as integers."
   ]
  },
  {
   "cell_type": "code",
   "execution_count": 7,
   "metadata": {
    "collapsed": true
   },
   "outputs": [
    {
     "output_type": "execute_result",
     "data": {
      "text/plain": [
       "array([11, 75, 50, 13, 70, 82, 15, 71, 26, 64, 64, 64, 58, 50, 13, 13, 31,\n",
       "       71, 67, 50, 38, 51, 47, 51, 82, 63, 71, 50, 15, 82, 71, 50, 47, 47,\n",
       "       71, 50, 47, 51, 33, 82,  1, 71, 82, 77, 82, 15, 31, 71, 37, 57, 75,\n",
       "       50, 13, 13, 31, 71, 67, 50, 38, 51, 47, 31, 71, 51, 63, 71, 37, 57,\n",
       "       75, 50, 13, 13, 31, 71, 51, 57, 71, 51, 70, 63, 71,  5, 21, 57, 64,\n",
       "       21, 50, 31, 80, 64, 64, 10, 77, 82, 15, 31, 70, 75, 51, 57])"
      ]
     },
     "metadata": {},
     "execution_count": 7
    }
   ],
   "source": [
    "encoded[:100]"
   ]
  },
  {
   "cell_type": "markdown",
   "metadata": {},
   "source": [
    "## Pre-processing the data\n",
    "\n",
    "As you can see in our char-RNN image above, our LSTM expects an input that is **one-hot encoded** meaning that each character is converted into an integer (via our created dictionary) and *then* converted into a column vector where only it's corresponding integer index will have the value of 1 and the rest of the vector will be filled with 0's. Since we're one-hot encoding the data, let's make a function to do that!\n"
   ]
  },
  {
   "cell_type": "code",
   "execution_count": 8,
   "metadata": {
    "collapsed": true
   },
   "outputs": [],
   "source": [
    "def one_hot_encode(arr, n_labels):\n",
    "    \n",
    "    # Initialize the the encoded array\n",
    "    one_hot = np.zeros((arr.size, n_labels), dtype=np.float32)\n",
    "    \n",
    "    # Fill the appropriate elements with ones\n",
    "    one_hot[np.arange(one_hot.shape[0]), arr.flatten()] = 1.\n",
    "    \n",
    "    # Finally reshape it to get back to the original array\n",
    "    one_hot = one_hot.reshape((*arr.shape, n_labels))\n",
    "    \n",
    "    return one_hot"
   ]
  },
  {
   "cell_type": "code",
   "execution_count": 9,
   "metadata": {
    "collapsed": true
   },
   "outputs": [
    {
     "output_type": "stream",
     "name": "stdout",
     "text": [
      "[[[0. 0. 0. 1. 0. 0. 0. 0.]\n  [0. 0. 0. 0. 0. 1. 0. 0.]\n  [0. 1. 0. 0. 0. 0. 0. 0.]]]\n"
     ]
    }
   ],
   "source": [
    "# check that the function works as expected\n",
    "test_seq = np.array([[3, 5, 1]])\n",
    "one_hot = one_hot_encode(test_seq, 8)\n",
    "\n",
    "print(one_hot)"
   ]
  },
  {
   "cell_type": "markdown",
   "metadata": {},
   "source": [
    "## Making training mini-batches\n",
    "\n",
    "\n",
    "To train on this data, we also want to create mini-batches for training. Remember that we want our batches to be multiple sequences of some desired number of sequence steps. Considering a simple example, our batches would look like this:\n",
    "\n",
    "<img src=\"assets/sequence_batching@1x.png\" width=500px>\n",
    "\n",
    "\n",
    "<br>\n",
    "\n",
    "In this example, we'll take the encoded characters (passed in as the `arr` parameter) and split them into multiple sequences, given by `batch_size`. Each of our sequences will be `seq_length` long.\n",
    "\n",
    "### Creating Batches\n",
    "\n",
    "**1. The first thing we need to do is discard some of the text so we only have completely full mini-batches. **\n",
    "\n",
    "Each batch contains $N \\times M$ characters, where $N$ is the batch size (the number of sequences in a batch) and $M$ is the seq_length or number of time steps in a sequence. Then, to get the total number of batches, $K$, that we can make from the array `arr`, you divide the length of `arr` by the number of characters per batch. Once you know the number of batches, you can get the total number of characters to keep from `arr`, $N * M * K$.\n",
    "\n",
    "**2. After that, we need to split `arr` into $N$ batches. ** \n",
    "\n",
    "You can do this using `arr.reshape(size)` where `size` is a tuple containing the dimensions sizes of the reshaped array. We know we want $N$ sequences in a batch, so let's make that the size of the first dimension. For the second dimension, you can use `-1` as a placeholder in the size, it'll fill up the array with the appropriate data for you. After this, you should have an array that is $N \\times (M * K)$.\n",
    "\n",
    "**3. Now that we have this array, we can iterate through it to get our mini-batches. **\n",
    "\n",
    "The idea is each batch is a $N \\times M$ window on the $N \\times (M * K)$ array. For each subsequent batch, the window moves over by `seq_length`. We also want to create both the input and target arrays. Remember that the targets are just the inputs shifted over by one character. The way I like to do this window is use `range` to take steps of size `n_steps` from $0$ to `arr.shape[1]`, the total number of tokens in each sequence. That way, the integers you get from `range` always point to the start of a batch, and each window is `seq_length` wide.\n",
    "\n",
    "> **TODO:** Write the code for creating batches in the function below. The exercises in this notebook _will not be easy_. I've provided a notebook with solutions alongside this notebook. If you get stuck, checkout the solutions. The most important thing is that you don't copy and paste the code into here, **type out the solution code yourself.**"
   ]
  },
  {
   "cell_type": "code",
   "execution_count": 10,
   "metadata": {
    "collapsed": true
   },
   "outputs": [],
   "source": [
    "def get_batches(arr, batch_size, seq_length):\n",
    "    '''Create a generator that returns batches of size\n",
    "       batch_size x seq_length from arr.\n",
    "       \n",
    "       Arguments\n",
    "       ---------\n",
    "       arr: Array you want to make batches from\n",
    "       batch_size: Batch size, the number of sequences per batch\n",
    "       seq_length: Number of encoded chars in a sequence\n",
    "    '''\n",
    "    \n",
    "    ## TODO: Get the number of batches we can make\n",
    "    n_batches = len(arr) // (batch_size*seq_length)\n",
    "    \n",
    "    ## TODO: Keep only enough characters to make full batches\n",
    "    arr = arr[:batch_size*seq_length*n_batches]\n",
    "    \n",
    "    ## TODO: Reshape into batch_size rows\n",
    "    arr = arr.reshape(batch_size, -1)\n",
    "    \n",
    "    ## TODO: Iterate over the batches using a window of size seq_length\n",
    "    for n in range(0, arr.shape[1], seq_length):\n",
    "        # The features\n",
    "        x = arr[:, n:n+seq_length]\n",
    "        # The targets, shifted by one\n",
    "        y = np.zeros_like(x)\n",
    "        try:\n",
    "            y[:, :-1], y[:, -1] = x[:, 1:], arr[:, n+seq_length]\n",
    "        except IndexError:\n",
    "            y[:, :-1], y[:, -1] = x[:, 1:], arr[:, 0]\n",
    "        yield x, y"
   ]
  },
  {
   "cell_type": "markdown",
   "metadata": {},
   "source": [
    "### Test Your Implementation\n",
    "\n",
    "Now I'll make some data sets and we can check out what's going on as we batch data. Here, as an example, I'm going to use a batch size of 8 and 50 sequence steps."
   ]
  },
  {
   "cell_type": "code",
   "execution_count": 11,
   "metadata": {
    "collapsed": true
   },
   "outputs": [],
   "source": [
    "batches = get_batches(encoded, 8, 50)\n",
    "x, y = next(batches)"
   ]
  },
  {
   "cell_type": "code",
   "execution_count": 12,
   "metadata": {
    "collapsed": true
   },
   "outputs": [
    {
     "output_type": "stream",
     "name": "stdout",
     "text": [
      "x\n [[11 75 50 13 70 82 15 71 26 64]\n [63  5 57 71 70 75 50 70 71 50]\n [82 57  2 71  5 15 71 50 71 67]\n [63 71 70 75 82 71  6 75 51 82]\n [71 63 50 21 71 75 82 15 71 70]\n [ 6 37 63 63 51  5 57 71 50 57]\n [71 59 57 57 50 71 75 50  2 71]\n [34 61 47  5 57 63 33 31 80 71]]\n\ny\n [[75 50 13 70 82 15 71 26 64 64]\n [ 5 57 71 70 75 50 70 71 50 70]\n [57  2 71  5 15 71 50 71 67  5]\n [71 70 75 82 71  6 75 51 82 67]\n [63 50 21 71 75 82 15 71 70 82]\n [37 63 63 51  5 57 71 50 57  2]\n [59 57 57 50 71 75 50  2 71 63]\n [61 47  5 57 63 33 31 80 71 48]]\n"
     ]
    }
   ],
   "source": [
    "# printing out the first 10 items in a sequence\n",
    "print('x\\n', x[:10, :10])\n",
    "print('\\ny\\n', y[:10, :10])"
   ]
  },
  {
   "cell_type": "markdown",
   "metadata": {},
   "source": [
    "If you implemented `get_batches` correctly, the above output should look something like \n",
    "```\n",
    "x\n",
    " [[25  8 60 11 45 27 28 73  1  2]\n",
    " [17  7 20 73 45  8 60 45 73 60]\n",
    " [27 20 80 73  7 28 73 60 73 65]\n",
    " [17 73 45  8 27 73 66  8 46 27]\n",
    " [73 17 60 12 73  8 27 28 73 45]\n",
    " [66 64 17 17 46  7 20 73 60 20]\n",
    " [73 76 20 20 60 73  8 60 80 73]\n",
    " [47 35 43  7 20 17 24 50 37 73]]\n",
    "\n",
    "y\n",
    " [[ 8 60 11 45 27 28 73  1  2  2]\n",
    " [ 7 20 73 45  8 60 45 73 60 45]\n",
    " [20 80 73  7 28 73 60 73 65  7]\n",
    " [73 45  8 27 73 66  8 46 27 65]\n",
    " [17 60 12 73  8 27 28 73 45 27]\n",
    " [64 17 17 46  7 20 73 60 20 80]\n",
    " [76 20 20 60 73  8 60 80 73 17]\n",
    " [35 43  7 20 17 24 50 37 73 36]]\n",
    " ```\n",
    " although the exact numbers may be different. Check to make sure the data is shifted over one step for `y`."
   ]
  },
  {
   "cell_type": "markdown",
   "metadata": {},
   "source": [
    "---\n",
    "## Defining the network with PyTorch\n",
    "\n",
    "Below is where you'll define the network.\n",
    "\n",
    "<img src=\"assets/charRNN.png\" width=500px>\n",
    "\n",
    "Next, you'll use PyTorch to define the architecture of the network. We start by defining the layers and operations we want. Then, define a method for the forward pass. You've also been given a method for predicting characters."
   ]
  },
  {
   "cell_type": "markdown",
   "metadata": {},
   "source": [
    "### Model Structure\n",
    "\n",
    "In `__init__` the suggested structure is as follows:\n",
    "* Create and store the necessary dictionaries (this has been done for you)\n",
    "* Define an LSTM layer that takes as params: an input size (the number of characters), a hidden layer size `n_hidden`, a number of layers `n_layers`, a dropout probability `drop_prob`, and a batch_first boolean (True, since we are batching)\n",
    "* Define a dropout layer with `drop_prob`\n",
    "* Define a fully-connected layer with params: input size `n_hidden` and output size (the number of characters)\n",
    "* Finally, initialize the weights (again, this has been given)\n",
    "\n",
    "Note that some parameters have been named and given in the `__init__` function, and we use them and store them by doing something like `self.drop_prob = drop_prob`."
   ]
  },
  {
   "cell_type": "markdown",
   "metadata": {},
   "source": [
    "---\n",
    "### LSTM Inputs/Outputs\n",
    "\n",
    "You can create a basic [LSTM layer](https://pytorch.org/docs/stable/nn.html#lstm) as follows\n",
    "\n",
    "```python\n",
    "self.lstm = nn.LSTM(input_size, n_hidden, n_layers, \n",
    "                            dropout=drop_prob, batch_first=True)\n",
    "```\n",
    "\n",
    "where `input_size` is the number of characters this cell expects to see as sequential input, and `n_hidden` is the number of units in the hidden layers in the cell. And we can add dropout by adding a dropout parameter with a specified probability; this will automatically add dropout to the inputs or outputs. Finally, in the `forward` function, we can stack up the LSTM cells into layers using `.view`. With this, you pass in a list of cells and it will send the output of one cell into the next cell.\n",
    "\n",
    "We also need to create an initial hidden state of all zeros. This is done like so\n",
    "\n",
    "```python\n",
    "self.init_hidden()\n",
    "```"
   ]
  },
  {
   "cell_type": "code",
   "execution_count": 13,
   "metadata": {
    "collapsed": true
   },
   "outputs": [
    {
     "output_type": "stream",
     "name": "stdout",
     "text": [
      "Training on GPU!\n"
     ]
    }
   ],
   "source": [
    "# check if GPU is available\n",
    "train_on_gpu = torch.cuda.is_available()\n",
    "if(train_on_gpu):\n",
    "    print('Training on GPU!')\n",
    "else: \n",
    "    print('No GPU available, training on CPU; consider making n_epochs very small.')"
   ]
  },
  {
   "cell_type": "code",
   "execution_count": 14,
   "metadata": {
    "collapsed": true
   },
   "outputs": [],
   "source": [
    "class CharRNN(nn.Module):\n",
    "    \n",
    "    def __init__(self, tokens, n_hidden=256, n_layers=2,\n",
    "                               drop_prob=0.5, lr=0.001):\n",
    "        super().__init__()\n",
    "        self.drop_prob = drop_prob\n",
    "        self.n_layers = n_layers\n",
    "        self.n_hidden = n_hidden\n",
    "        self.lr = lr\n",
    "        \n",
    "        # creating character dictionaries\n",
    "        self.chars = tokens\n",
    "        self.int2char = dict(enumerate(self.chars))\n",
    "        self.char2int = {ch: ii for ii, ch in self.int2char.items()}\n",
    "        \n",
    "        ## TODO: define the layers of the model\n",
    "        self.lstm = nn.LSTM(len(self.chars), n_hidden, n_layers, \n",
    "                            dropout=drop_prob, batch_first=True)\n",
    "        self.dropout = nn.Dropout(drop_prob)\n",
    "        self.fc = nn.Linear(n_hidden, len(self.chars))\n",
    "    \n",
    "    def forward(self, x, hidden):\n",
    "        ''' Forward pass through the network. \n",
    "            These inputs are x, and the hidden/cell state `hidden`. '''\n",
    "                \n",
    "        ## TODO: Get the outputs and the new hidden state from the lstm\n",
    "        lstm_output, hidden = self.lstm(x, hidden)\n",
    "        out = self.dropout(lstm_output)\n",
    "        out = out.contiguous().view(-1, self.n_hidden)\n",
    "        out = self.fc(out)\n",
    "\n",
    "        # return the final output and the hidden state\n",
    "        return out, hidden\n",
    "    \n",
    "    \n",
    "    def init_hidden(self, batch_size):\n",
    "        ''' Initializes hidden state '''\n",
    "        # Create two new tensors with sizes n_layers x batch_size x n_hidden,\n",
    "        # initialized to zero, for hidden state and cell state of LSTM\n",
    "        weight = next(self.parameters()).data\n",
    "        \n",
    "        if (train_on_gpu):\n",
    "            hidden = (weight.new(self.n_layers, batch_size, self.n_hidden).zero_().cuda(),\n",
    "                  weight.new(self.n_layers, batch_size, self.n_hidden).zero_().cuda())\n",
    "        else:\n",
    "            hidden = (weight.new(self.n_layers, batch_size, self.n_hidden).zero_(),\n",
    "                      weight.new(self.n_layers, batch_size, self.n_hidden).zero_())\n",
    "        \n",
    "        return hidden\n",
    "        "
   ]
  },
  {
   "cell_type": "markdown",
   "metadata": {},
   "source": [
    "## Time to train\n",
    "\n",
    "The train function gives us the ability to set the number of epochs, the learning rate, and other parameters.\n",
    "\n",
    "Below we're using an Adam optimizer and cross entropy loss since we are looking at character class scores as output. We calculate the loss and perform backpropagation, as usual!\n",
    "\n",
    "A couple of details about training: \n",
    ">* Within the batch loop, we detach the hidden state from its history; this time setting it equal to a new *tuple* variable because an LSTM has a hidden state that is a tuple of the hidden and cell states.\n",
    "* We use [`clip_grad_norm_`](https://pytorch.org/docs/stable/_modules/torch/nn/utils/clip_grad.html) to help prevent exploding gradients."
   ]
  },
  {
   "cell_type": "code",
   "execution_count": 15,
   "metadata": {
    "collapsed": true
   },
   "outputs": [],
   "source": [
    "def train(net, data, epochs=10, batch_size=10, seq_length=50, lr=0.001, clip=5, val_frac=0.1, print_every=10):\n",
    "    ''' Training a network \n",
    "    \n",
    "        Arguments\n",
    "        ---------\n",
    "        \n",
    "        net: CharRNN network\n",
    "        data: text data to train the network\n",
    "        epochs: Number of epochs to train\n",
    "        batch_size: Number of mini-sequences per mini-batch, aka batch size\n",
    "        seq_length: Number of character steps per mini-batch\n",
    "        lr: learning rate\n",
    "        clip: gradient clipping\n",
    "        val_frac: Fraction of data to hold out for validation\n",
    "        print_every: Number of steps for printing training and validation loss\n",
    "    \n",
    "    '''\n",
    "    net.train()\n",
    "    \n",
    "    opt = torch.optim.Adam(net.parameters(), lr=lr)\n",
    "    criterion = nn.CrossEntropyLoss()\n",
    "    \n",
    "    # create training and validation data\n",
    "    val_idx = int(len(data)*(1-val_frac))\n",
    "    data, val_data = data[:val_idx], data[val_idx:]\n",
    "    \n",
    "    if(train_on_gpu):\n",
    "        net.cuda()\n",
    "    \n",
    "    counter = 0\n",
    "    n_chars = len(net.chars)\n",
    "    for e in range(epochs):\n",
    "        # initialize hidden state\n",
    "        h = net.init_hidden(batch_size)\n",
    "        \n",
    "        for x, y in get_batches(data, batch_size, seq_length):\n",
    "            counter += 1\n",
    "            \n",
    "            # One-hot encode our data and make them Torch tensors\n",
    "            x = one_hot_encode(x, n_chars)\n",
    "            inputs, targets = torch.from_numpy(x), torch.from_numpy(y)\n",
    "            \n",
    "            if(train_on_gpu):\n",
    "                inputs, targets = inputs.cuda(), targets.cuda()\n",
    "\n",
    "            # Creating new variables for the hidden state, otherwise\n",
    "            # we'd backprop through the entire training history\n",
    "            h = tuple([each.data for each in h])\n",
    "\n",
    "            # zero accumulated gradients\n",
    "            net.zero_grad()\n",
    "            \n",
    "            # get the output from the model\n",
    "            output, h = net(inputs, h)\n",
    "            \n",
    "            # calculate the loss and perform backprop\n",
    "            loss = criterion(output, targets.view(batch_size*seq_length).long())\n",
    "            loss.backward()\n",
    "            # `clip_grad_norm` helps prevent the exploding gradient problem in RNNs / LSTMs.\n",
    "            nn.utils.clip_grad_norm_(net.parameters(), clip)\n",
    "            opt.step()\n",
    "            \n",
    "            # loss stats\n",
    "            if counter % print_every == 0:\n",
    "                # Get validation loss\n",
    "                val_h = net.init_hidden(batch_size)\n",
    "                val_losses = []\n",
    "                net.eval()\n",
    "                for x, y in get_batches(val_data, batch_size, seq_length):\n",
    "                    # One-hot encode our data and make them Torch tensors\n",
    "                    x = one_hot_encode(x, n_chars)\n",
    "                    x, y = torch.from_numpy(x), torch.from_numpy(y)\n",
    "                    \n",
    "                    # Creating new variables for the hidden state, otherwise\n",
    "                    # we'd backprop through the entire training history\n",
    "                    val_h = tuple([each.data for each in val_h])\n",
    "                    \n",
    "                    inputs, targets = x, y\n",
    "                    if(train_on_gpu):\n",
    "                        inputs, targets = inputs.cuda(), targets.cuda()\n",
    "\n",
    "                    output, val_h = net(inputs, val_h)\n",
    "                    val_loss = criterion(output, targets.view(batch_size*seq_length).long())\n",
    "                \n",
    "                    val_losses.append(val_loss.item())\n",
    "                \n",
    "                net.train() # reset to train mode after iterationg through validation data\n",
    "                \n",
    "                print(\"Epoch: {}/{}...\".format(e+1, epochs),\n",
    "                      \"Step: {}...\".format(counter),\n",
    "                      \"Loss: {:.4f}...\".format(loss.item()),\n",
    "                      \"Val Loss: {:.4f}\".format(np.mean(val_losses)))"
   ]
  },
  {
   "cell_type": "markdown",
   "metadata": {},
   "source": [
    "## Instantiating the model\n",
    "\n",
    "Now we can actually train the network. First we'll create the network itself, with some given hyperparameters. Then, define the mini-batches sizes, and start training!"
   ]
  },
  {
   "cell_type": "code",
   "execution_count": 16,
   "metadata": {
    "collapsed": true
   },
   "outputs": [
    {
     "output_type": "stream",
     "name": "stdout",
     "text": [
      "CharRNN(\n  (lstm): LSTM(83, 512, num_layers=2, batch_first=True, dropout=0.5)\n  (dropout): Dropout(p=0.5, inplace=False)\n  (fc): Linear(in_features=512, out_features=83, bias=True)\n)\n"
     ]
    }
   ],
   "source": [
    "## TODO: set your model hyperparameters\n",
    "# define and print the net\n",
    "n_hidden=512\n",
    "n_layers=2\n",
    "\n",
    "net = CharRNN(chars, n_hidden, n_layers)\n",
    "print(net)"
   ]
  },
  {
   "cell_type": "markdown",
   "metadata": {},
   "source": [
    "### Set your training hyperparameters!"
   ]
  },
  {
   "cell_type": "code",
   "execution_count": 24,
   "metadata": {
    "collapsed": true,
    "scrolled": true
   },
   "outputs": [
    {
     "output_type": "stream",
     "name": "stdout",
     "text": [
      "Epoch: 1/20... Step: 10... Loss: 1.4545... Val Loss: 1.4360\n",
      "Epoch: 1/20... Step: 20... Loss: 1.4536... Val Loss: 1.4247\n",
      "Epoch: 1/20... Step: 30... Loss: 1.4359... Val Loss: 1.4193\n",
      "Epoch: 1/20... Step: 40... Loss: 1.4057... Val Loss: 1.4198\n",
      "Epoch: 1/20... Step: 50... Loss: 1.4298... Val Loss: 1.4126\n",
      "Epoch: 1/20... Step: 60... Loss: 1.3670... Val Loss: 1.4129\n",
      "Epoch: 1/20... Step: 70... Loss: 1.3900... Val Loss: 1.4121\n",
      "Epoch: 1/20... Step: 80... Loss: 1.3798... Val Loss: 1.4134\n",
      "Epoch: 1/20... Step: 90... Loss: 1.3952... Val Loss: 1.4075\n",
      "Epoch: 1/20... Step: 100... Loss: 1.3885... Val Loss: 1.4043\n",
      "Epoch: 1/20... Step: 110... Loss: 1.3679... Val Loss: 1.4085\n",
      "Epoch: 1/20... Step: 120... Loss: 1.3661... Val Loss: 1.4034\n",
      "Epoch: 1/20... Step: 130... Loss: 1.3911... Val Loss: 1.3994\n",
      "Epoch: 2/20... Step: 140... Loss: 1.4323... Val Loss: 1.4007\n",
      "Epoch: 2/20... Step: 150... Loss: 1.4031... Val Loss: 1.3952\n",
      "Epoch: 2/20... Step: 160... Loss: 1.4036... Val Loss: 1.3950\n",
      "Epoch: 2/20... Step: 170... Loss: 1.4126... Val Loss: 1.3931\n",
      "Epoch: 2/20... Step: 180... Loss: 1.3711... Val Loss: 1.3951\n",
      "Epoch: 2/20... Step: 190... Loss: 1.3436... Val Loss: 1.3936\n",
      "Epoch: 2/20... Step: 200... Loss: 1.3370... Val Loss: 1.3872\n",
      "Epoch: 2/20... Step: 210... Loss: 1.3626... Val Loss: 1.3911\n",
      "Epoch: 2/20... Step: 220... Loss: 1.3614... Val Loss: 1.3914\n",
      "Epoch: 2/20... Step: 230... Loss: 1.3419... Val Loss: 1.3859\n",
      "Epoch: 2/20... Step: 240... Loss: 1.3774... Val Loss: 1.3839\n",
      "Epoch: 2/20... Step: 250... Loss: 1.3556... Val Loss: 1.3842\n",
      "Epoch: 2/20... Step: 260... Loss: 1.3273... Val Loss: 1.3817\n",
      "Epoch: 2/20... Step: 270... Loss: 1.3891... Val Loss: 1.3795\n",
      "Epoch: 3/20... Step: 280... Loss: 1.3545... Val Loss: 1.3796\n",
      "Epoch: 3/20... Step: 290... Loss: 1.3705... Val Loss: 1.3759\n",
      "Epoch: 3/20... Step: 300... Loss: 1.3545... Val Loss: 1.3735\n",
      "Epoch: 3/20... Step: 310... Loss: 1.3456... Val Loss: 1.3705\n",
      "Epoch: 3/20... Step: 320... Loss: 1.3259... Val Loss: 1.3732\n",
      "Epoch: 3/20... Step: 330... Loss: 1.3434... Val Loss: 1.3749\n",
      "Epoch: 3/20... Step: 340... Loss: 1.3594... Val Loss: 1.3674\n",
      "Epoch: 3/20... Step: 350... Loss: 1.3374... Val Loss: 1.3772\n",
      "Epoch: 3/20... Step: 360... Loss: 1.3049... Val Loss: 1.3739\n",
      "Epoch: 3/20... Step: 370... Loss: 1.3376... Val Loss: 1.3693\n",
      "Epoch: 3/20... Step: 380... Loss: 1.3484... Val Loss: 1.3697\n",
      "Epoch: 3/20... Step: 390... Loss: 1.3255... Val Loss: 1.3698\n",
      "Epoch: 3/20... Step: 400... Loss: 1.3133... Val Loss: 1.3682\n",
      "Epoch: 3/20... Step: 410... Loss: 1.3429... Val Loss: 1.3643\n",
      "Epoch: 4/20... Step: 420... Loss: 1.3420... Val Loss: 1.3620\n",
      "Epoch: 4/20... Step: 430... Loss: 1.3384... Val Loss: 1.3559\n",
      "Epoch: 4/20... Step: 440... Loss: 1.3460... Val Loss: 1.3594\n",
      "Epoch: 4/20... Step: 450... Loss: 1.2952... Val Loss: 1.3588\n",
      "Epoch: 4/20... Step: 460... Loss: 1.2733... Val Loss: 1.3583\n",
      "Epoch: 4/20... Step: 470... Loss: 1.3322... Val Loss: 1.3582\n",
      "Epoch: 4/20... Step: 480... Loss: 1.3427... Val Loss: 1.3555\n",
      "Epoch: 4/20... Step: 490... Loss: 1.3308... Val Loss: 1.3582\n",
      "Epoch: 4/20... Step: 500... Loss: 1.3492... Val Loss: 1.3580\n",
      "Epoch: 4/20... Step: 510... Loss: 1.3228... Val Loss: 1.3554\n",
      "Epoch: 4/20... Step: 520... Loss: 1.3294... Val Loss: 1.3527\n",
      "Epoch: 4/20... Step: 530... Loss: 1.3138... Val Loss: 1.3528\n",
      "Epoch: 4/20... Step: 540... Loss: 1.2871... Val Loss: 1.3494\n",
      "Epoch: 4/20... Step: 550... Loss: 1.3472... Val Loss: 1.3472\n",
      "Epoch: 5/20... Step: 560... Loss: 1.3193... Val Loss: 1.3472\n",
      "Epoch: 5/20... Step: 570... Loss: 1.3158... Val Loss: 1.3478\n",
      "Epoch: 5/20... Step: 580... Loss: 1.3072... Val Loss: 1.3456\n",
      "Epoch: 5/20... Step: 590... Loss: 1.2925... Val Loss: 1.3480\n",
      "Epoch: 5/20... Step: 600... Loss: 1.2932... Val Loss: 1.3463\n",
      "Epoch: 5/20... Step: 610... Loss: 1.2826... Val Loss: 1.3449\n",
      "Epoch: 5/20... Step: 620... Loss: 1.3081... Val Loss: 1.3463\n",
      "Epoch: 5/20... Step: 630... Loss: 1.3098... Val Loss: 1.3498\n",
      "Epoch: 5/20... Step: 640... Loss: 1.2936... Val Loss: 1.3437\n",
      "Epoch: 5/20... Step: 650... Loss: 1.2993... Val Loss: 1.3442\n",
      "Epoch: 5/20... Step: 660... Loss: 1.2861... Val Loss: 1.3425\n",
      "Epoch: 5/20... Step: 670... Loss: 1.3031... Val Loss: 1.3414\n",
      "Epoch: 5/20... Step: 680... Loss: 1.3174... Val Loss: 1.3376\n",
      "Epoch: 5/20... Step: 690... Loss: 1.2987... Val Loss: 1.3380\n",
      "Epoch: 6/20... Step: 700... Loss: 1.2986... Val Loss: 1.3312\n",
      "Epoch: 6/20... Step: 710... Loss: 1.2891... Val Loss: 1.3349\n",
      "Epoch: 6/20... Step: 720... Loss: 1.2790... Val Loss: 1.3314\n",
      "Epoch: 6/20... Step: 730... Loss: 1.2953... Val Loss: 1.3372\n",
      "Epoch: 6/20... Step: 740... Loss: 1.2721... Val Loss: 1.3353\n",
      "Epoch: 6/20... Step: 750... Loss: 1.2801... Val Loss: 1.3300\n",
      "Epoch: 6/20... Step: 760... Loss: 1.3067... Val Loss: 1.3298\n",
      "Epoch: 6/20... Step: 770... Loss: 1.2828... Val Loss: 1.3309\n",
      "Epoch: 6/20... Step: 780... Loss: 1.2809... Val Loss: 1.3290\n",
      "Epoch: 6/20... Step: 790... Loss: 1.2688... Val Loss: 1.3292\n",
      "Epoch: 6/20... Step: 800... Loss: 1.2938... Val Loss: 1.3317\n",
      "Epoch: 6/20... Step: 810... Loss: 1.2712... Val Loss: 1.3286\n",
      "Epoch: 6/20... Step: 820... Loss: 1.2404... Val Loss: 1.3264\n",
      "Epoch: 6/20... Step: 830... Loss: 1.2968... Val Loss: 1.3282\n",
      "Epoch: 7/20... Step: 840... Loss: 1.2524... Val Loss: 1.3206\n",
      "Epoch: 7/20... Step: 850... Loss: 1.2761... Val Loss: 1.3250\n",
      "Epoch: 7/20... Step: 860... Loss: 1.2529... Val Loss: 1.3187\n",
      "Epoch: 7/20... Step: 870... Loss: 1.2669... Val Loss: 1.3214\n",
      "Epoch: 7/20... Step: 880... Loss: 1.2791... Val Loss: 1.3237\n",
      "Epoch: 7/20... Step: 890... Loss: 1.2790... Val Loss: 1.3147\n",
      "Epoch: 7/20... Step: 900... Loss: 1.2760... Val Loss: 1.3197\n",
      "Epoch: 7/20... Step: 910... Loss: 1.2516... Val Loss: 1.3222\n",
      "Epoch: 7/20... Step: 920... Loss: 1.2613... Val Loss: 1.3166\n",
      "Epoch: 7/20... Step: 930... Loss: 1.2556... Val Loss: 1.3178\n",
      "Epoch: 7/20... Step: 940... Loss: 1.2557... Val Loss: 1.3169\n",
      "Epoch: 7/20... Step: 950... Loss: 1.2645... Val Loss: 1.3197\n",
      "Epoch: 7/20... Step: 960... Loss: 1.2739... Val Loss: 1.3143\n",
      "Epoch: 7/20... Step: 970... Loss: 1.2811... Val Loss: 1.3130\n",
      "Epoch: 8/20... Step: 980... Loss: 1.2473... Val Loss: 1.3154\n",
      "Epoch: 8/20... Step: 990... Loss: 1.2617... Val Loss: 1.3175\n",
      "Epoch: 8/20... Step: 1000... Loss: 1.2520... Val Loss: 1.3138\n",
      "Epoch: 8/20... Step: 1010... Loss: 1.2839... Val Loss: 1.3141\n",
      "Epoch: 8/20... Step: 1020... Loss: 1.2695... Val Loss: 1.3151\n",
      "Epoch: 8/20... Step: 1030... Loss: 1.2554... Val Loss: 1.3100\n",
      "Epoch: 8/20... Step: 1040... Loss: 1.2654... Val Loss: 1.3085\n",
      "Epoch: 8/20... Step: 1050... Loss: 1.2419... Val Loss: 1.3103\n",
      "Epoch: 8/20... Step: 1060... Loss: 1.2419... Val Loss: 1.3107\n",
      "Epoch: 8/20... Step: 1070... Loss: 1.2474... Val Loss: 1.3119\n",
      "Epoch: 8/20... Step: 1080... Loss: 1.2411... Val Loss: 1.3107\n",
      "Epoch: 8/20... Step: 1090... Loss: 1.2441... Val Loss: 1.3093\n",
      "Epoch: 8/20... Step: 1100... Loss: 1.2376... Val Loss: 1.3024\n",
      "Epoch: 8/20... Step: 1110... Loss: 1.2455... Val Loss: 1.3042\n",
      "Epoch: 9/20... Step: 1120... Loss: 1.2487... Val Loss: 1.3031\n",
      "Epoch: 9/20... Step: 1130... Loss: 1.2522... Val Loss: 1.3048\n",
      "Epoch: 9/20... Step: 1140... Loss: 1.2624... Val Loss: 1.3023\n",
      "Epoch: 9/20... Step: 1150... Loss: 1.2720... Val Loss: 1.3023\n",
      "Epoch: 9/20... Step: 1160... Loss: 1.2324... Val Loss: 1.3035\n",
      "Epoch: 9/20... Step: 1170... Loss: 1.2461... Val Loss: 1.3004\n",
      "Epoch: 9/20... Step: 1180... Loss: 1.2338... Val Loss: 1.2998\n",
      "Epoch: 9/20... Step: 1190... Loss: 1.2586... Val Loss: 1.2979\n",
      "Epoch: 9/20... Step: 1200... Loss: 1.2328... Val Loss: 1.2967\n",
      "Epoch: 9/20... Step: 1210... Loss: 1.2247... Val Loss: 1.2983\n",
      "Epoch: 9/20... Step: 1220... Loss: 1.2325... Val Loss: 1.2963\n",
      "Epoch: 9/20... Step: 1230... Loss: 1.2154... Val Loss: 1.2961\n",
      "Epoch: 9/20... Step: 1240... Loss: 1.2187... Val Loss: 1.2957\n",
      "Epoch: 9/20... Step: 1250... Loss: 1.2299... Val Loss: 1.2914\n",
      "Epoch: 10/20... Step: 1260... Loss: 1.2436... Val Loss: 1.2932\n",
      "Epoch: 10/20... Step: 1270... Loss: 1.2397... Val Loss: 1.2942\n",
      "Epoch: 10/20... Step: 1280... Loss: 1.2434... Val Loss: 1.2912\n",
      "Epoch: 10/20... Step: 1290... Loss: 1.2355... Val Loss: 1.2875\n",
      "Epoch: 10/20... Step: 1300... Loss: 1.2286... Val Loss: 1.2873\n",
      "Epoch: 10/20... Step: 1310... Loss: 1.2307... Val Loss: 1.2837\n",
      "Epoch: 10/20... Step: 1320... Loss: 1.2005... Val Loss: 1.2848\n",
      "Epoch: 10/20... Step: 1330... Loss: 1.2130... Val Loss: 1.2872\n",
      "Epoch: 10/20... Step: 1340... Loss: 1.1976... Val Loss: 1.2842\n",
      "Epoch: 10/20... Step: 1350... Loss: 1.2025... Val Loss: 1.2834\n",
      "Epoch: 10/20... Step: 1360... Loss: 1.2027... Val Loss: 1.2833\n",
      "Epoch: 10/20... Step: 1370... Loss: 1.1910... Val Loss: 1.2851\n",
      "Epoch: 10/20... Step: 1380... Loss: 1.2316... Val Loss: 1.2807\n",
      "Epoch: 10/20... Step: 1390... Loss: 1.2571... Val Loss: 1.2783\n",
      "Epoch: 11/20... Step: 1400... Loss: 1.2370... Val Loss: 1.2833\n",
      "Epoch: 11/20... Step: 1410... Loss: 1.2553... Val Loss: 1.2811\n",
      "Epoch: 11/20... Step: 1420... Loss: 1.2543... Val Loss: 1.2777\n",
      "Epoch: 11/20... Step: 1430... Loss: 1.2141... Val Loss: 1.2737\n",
      "Epoch: 11/20... Step: 1440... Loss: 1.2302... Val Loss: 1.2710\n",
      "Epoch: 11/20... Step: 1450... Loss: 1.1719... Val Loss: 1.2714\n",
      "Epoch: 11/20... Step: 1460... Loss: 1.1975... Val Loss: 1.2709\n",
      "Epoch: 11/20... Step: 1470... Loss: 1.1875... Val Loss: 1.2778\n",
      "Epoch: 11/20... Step: 1480... Loss: 1.2027... Val Loss: 1.2789\n",
      "Epoch: 11/20... Step: 1490... Loss: 1.2032... Val Loss: 1.2782\n",
      "Epoch: 11/20... Step: 1500... Loss: 1.1863... Val Loss: 1.2742\n",
      "Epoch: 11/20... Step: 1510... Loss: 1.1733... Val Loss: 1.2772\n",
      "Epoch: 11/20... Step: 1520... Loss: 1.2041... Val Loss: 1.2745\n",
      "Epoch: 12/20... Step: 1530... Loss: 1.2970... Val Loss: 1.2670\n",
      "Epoch: 12/20... Step: 1540... Loss: 1.2159... Val Loss: 1.2702\n",
      "Epoch: 12/20... Step: 1550... Loss: 1.2183... Val Loss: 1.2689\n",
      "Epoch: 12/20... Step: 1560... Loss: 1.2297... Val Loss: 1.2628\n",
      "Epoch: 12/20... Step: 1570... Loss: 1.1862... Val Loss: 1.2648\n",
      "Epoch: 12/20... Step: 1580... Loss: 1.1688... Val Loss: 1.2647\n",
      "Epoch: 12/20... Step: 1590... Loss: 1.1678... Val Loss: 1.2680\n",
      "Epoch: 12/20... Step: 1600... Loss: 1.1853... Val Loss: 1.2698\n",
      "Epoch: 12/20... Step: 1610... Loss: 1.1842... Val Loss: 1.2687\n",
      "Epoch: 12/20... Step: 1620... Loss: 1.1734... Val Loss: 1.2677\n",
      "Epoch: 12/20... Step: 1630... Loss: 1.2067... Val Loss: 1.2698\n",
      "Epoch: 12/20... Step: 1640... Loss: 1.1786... Val Loss: 1.2672\n",
      "Epoch: 12/20... Step: 1650... Loss: 1.1687... Val Loss: 1.2690\n",
      "Epoch: 12/20... Step: 1660... Loss: 1.2215... Val Loss: 1.2657\n",
      "Epoch: 13/20... Step: 1670... Loss: 1.1770... Val Loss: 1.2630\n",
      "Epoch: 13/20... Step: 1680... Loss: 1.1942... Val Loss: 1.2680\n",
      "Epoch: 13/20... Step: 1690... Loss: 1.1873... Val Loss: 1.2664\n",
      "Epoch: 13/20... Step: 1700... Loss: 1.1808... Val Loss: 1.2659\n",
      "Epoch: 13/20... Step: 1710... Loss: 1.1567... Val Loss: 1.2667\n",
      "Epoch: 13/20... Step: 1720... Loss: 1.1756... Val Loss: 1.2610\n",
      "Epoch: 13/20... Step: 1730... Loss: 1.1908... Val Loss: 1.2644\n",
      "Epoch: 13/20... Step: 1740... Loss: 1.1780... Val Loss: 1.2638\n",
      "Epoch: 13/20... Step: 1750... Loss: 1.1520... Val Loss: 1.2720\n",
      "Epoch: 13/20... Step: 1760... Loss: 1.1776... Val Loss: 1.2625\n",
      "Epoch: 13/20... Step: 1770... Loss: 1.1842... Val Loss: 1.2619\n",
      "Epoch: 13/20... Step: 1780... Loss: 1.1599... Val Loss: 1.2638\n",
      "Epoch: 13/20... Step: 1790... Loss: 1.1548... Val Loss: 1.2596\n",
      "Epoch: 13/20... Step: 1800... Loss: 1.1843... Val Loss: 1.2584\n",
      "Epoch: 14/20... Step: 1810... Loss: 1.1850... Val Loss: 1.2637\n",
      "Epoch: 14/20... Step: 1820... Loss: 1.1729... Val Loss: 1.2653\n",
      "Epoch: 14/20... Step: 1830... Loss: 1.1955... Val Loss: 1.2625\n",
      "Epoch: 14/20... Step: 1840... Loss: 1.1349... Val Loss: 1.2594\n",
      "Epoch: 14/20... Step: 1850... Loss: 1.1295... Val Loss: 1.2563\n",
      "Epoch: 14/20... Step: 1860... Loss: 1.1845... Val Loss: 1.2596\n",
      "Epoch: 14/20... Step: 1870... Loss: 1.1959... Val Loss: 1.2575\n",
      "Epoch: 14/20... Step: 1880... Loss: 1.1881... Val Loss: 1.2597\n",
      "Epoch: 14/20... Step: 1890... Loss: 1.2009... Val Loss: 1.2623\n",
      "Epoch: 14/20... Step: 1900... Loss: 1.1760... Val Loss: 1.2587\n",
      "Epoch: 14/20... Step: 1910... Loss: 1.1728... Val Loss: 1.2604\n",
      "Epoch: 14/20... Step: 1920... Loss: 1.1733... Val Loss: 1.2570\n",
      "Epoch: 14/20... Step: 1930... Loss: 1.1364... Val Loss: 1.2563\n",
      "Epoch: 14/20... Step: 1940... Loss: 1.1852... Val Loss: 1.2527\n",
      "Epoch: 15/20... Step: 1950... Loss: 1.1695... Val Loss: 1.2594\n",
      "Epoch: 15/20... Step: 1960... Loss: 1.1716... Val Loss: 1.2613\n",
      "Epoch: 15/20... Step: 1970... Loss: 1.1540... Val Loss: 1.2612\n",
      "Epoch: 15/20... Step: 1980... Loss: 1.1553... Val Loss: 1.2584\n",
      "Epoch: 15/20... Step: 1990... Loss: 1.1511... Val Loss: 1.2554\n",
      "Epoch: 15/20... Step: 2000... Loss: 1.1386... Val Loss: 1.2587\n",
      "Epoch: 15/20... Step: 2010... Loss: 1.1602... Val Loss: 1.2685\n",
      "Epoch: 15/20... Step: 2020... Loss: 1.1757... Val Loss: 1.2527\n",
      "Epoch: 15/20... Step: 2030... Loss: 1.1595... Val Loss: 1.2560\n",
      "Epoch: 15/20... Step: 2040... Loss: 1.1667... Val Loss: 1.2541\n",
      "Epoch: 15/20... Step: 2050... Loss: 1.1489... Val Loss: 1.2553\n",
      "Epoch: 15/20... Step: 2060... Loss: 1.1647... Val Loss: 1.2549\n",
      "Epoch: 15/20... Step: 2070... Loss: 1.1716... Val Loss: 1.2535\n",
      "Epoch: 15/20... Step: 2080... Loss: 1.1657... Val Loss: 1.2505\n",
      "Epoch: 16/20... Step: 2090... Loss: 1.1648... Val Loss: 1.2542\n",
      "Epoch: 16/20... Step: 2100... Loss: 1.1513... Val Loss: 1.2573\n",
      "Epoch: 16/20... Step: 2110... Loss: 1.1456... Val Loss: 1.2559\n",
      "Epoch: 16/20... Step: 2120... Loss: 1.1679... Val Loss: 1.2519\n",
      "Epoch: 16/20... Step: 2130... Loss: 1.1326... Val Loss: 1.2504\n",
      "Epoch: 16/20... Step: 2140... Loss: 1.1529... Val Loss: 1.2639\n",
      "Epoch: 16/20... Step: 2150... Loss: 1.1814... Val Loss: 1.2547\n",
      "Epoch: 16/20... Step: 2160... Loss: 1.1558... Val Loss: 1.2551\n",
      "Epoch: 16/20... Step: 2170... Loss: 1.1549... Val Loss: 1.2529\n",
      "Epoch: 16/20... Step: 2180... Loss: 1.1513... Val Loss: 1.2581\n",
      "Epoch: 16/20... Step: 2190... Loss: 1.1620... Val Loss: 1.2547\n",
      "Epoch: 16/20... Step: 2200... Loss: 1.1500... Val Loss: 1.2525\n",
      "Epoch: 16/20... Step: 2210... Loss: 1.1229... Val Loss: 1.2538\n",
      "Epoch: 16/20... Step: 2220... Loss: 1.1541... Val Loss: 1.2474\n",
      "Epoch: 17/20... Step: 2230... Loss: 1.1432... Val Loss: 1.2539\n",
      "Epoch: 17/20... Step: 2240... Loss: 1.1540... Val Loss: 1.2522\n",
      "Epoch: 17/20... Step: 2250... Loss: 1.1318... Val Loss: 1.2531\n",
      "Epoch: 17/20... Step: 2260... Loss: 1.1399... Val Loss: 1.2507\n",
      "Epoch: 17/20... Step: 2270... Loss: 1.1513... Val Loss: 1.2502\n",
      "Epoch: 17/20... Step: 2280... Loss: 1.1446... Val Loss: 1.2581\n",
      "Epoch: 17/20... Step: 2290... Loss: 1.1571... Val Loss: 1.2566\n",
      "Epoch: 17/20... Step: 2300... Loss: 1.1145... Val Loss: 1.2524\n",
      "Epoch: 17/20... Step: 2310... Loss: 1.1466... Val Loss: 1.2533\n",
      "Epoch: 17/20... Step: 2320... Loss: 1.1322... Val Loss: 1.2546\n",
      "Epoch: 17/20... Step: 2330... Loss: 1.1290... Val Loss: 1.2535\n",
      "Epoch: 17/20... Step: 2340... Loss: 1.1534... Val Loss: 1.2530\n",
      "Epoch: 17/20... Step: 2350... Loss: 1.1540... Val Loss: 1.2469\n",
      "Epoch: 17/20... Step: 2360... Loss: 1.1652... Val Loss: 1.2515\n",
      "Epoch: 18/20... Step: 2370... Loss: 1.1297... Val Loss: 1.2456\n",
      "Epoch: 18/20... Step: 2380... Loss: 1.1376... Val Loss: 1.2443\n",
      "Epoch: 18/20... Step: 2390... Loss: 1.1397... Val Loss: 1.2482\n",
      "Epoch: 18/20... Step: 2400... Loss: 1.1529... Val Loss: 1.2530\n",
      "Epoch: 18/20... Step: 2410... Loss: 1.1538... Val Loss: 1.2460\n",
      "Epoch: 18/20... Step: 2420... Loss: 1.1538... Val Loss: 1.2507\n",
      "Epoch: 18/20... Step: 2430... Loss: 1.1534... Val Loss: 1.2478\n",
      "Epoch: 18/20... Step: 2440... Loss: 1.1315... Val Loss: 1.2479\n",
      "Epoch: 18/20... Step: 2450... Loss: 1.1327... Val Loss: 1.2497\n",
      "Epoch: 18/20... Step: 2460... Loss: 1.1393... Val Loss: 1.2520\n",
      "Epoch: 18/20... Step: 2470... Loss: 1.1299... Val Loss: 1.2488\n",
      "Epoch: 18/20... Step: 2480... Loss: 1.1332... Val Loss: 1.2439\n",
      "Epoch: 18/20... Step: 2490... Loss: 1.1285... Val Loss: 1.2507\n",
      "Epoch: 18/20... Step: 2500... Loss: 1.1183... Val Loss: 1.2425\n",
      "Epoch: 19/20... Step: 2510... Loss: 1.1284... Val Loss: 1.2467\n",
      "Epoch: 19/20... Step: 2520... Loss: 1.1484... Val Loss: 1.2419\n",
      "Epoch: 19/20... Step: 2530... Loss: 1.1562... Val Loss: 1.2465\n",
      "Epoch: 19/20... Step: 2540... Loss: 1.1588... Val Loss: 1.2516\n",
      "Epoch: 19/20... Step: 2550... Loss: 1.1291... Val Loss: 1.2414\n",
      "Epoch: 19/20... Step: 2560... Loss: 1.1362... Val Loss: 1.2544\n",
      "Epoch: 19/20... Step: 2570... Loss: 1.1300... Val Loss: 1.2407\n",
      "Epoch: 19/20... Step: 2580... Loss: 1.1548... Val Loss: 1.2433\n",
      "Epoch: 19/20... Step: 2590... Loss: 1.1263... Val Loss: 1.2471\n",
      "Epoch: 19/20... Step: 2600... Loss: 1.1152... Val Loss: 1.2462\n",
      "Epoch: 19/20... Step: 2610... Loss: 1.1301... Val Loss: 1.2460\n",
      "Epoch: 19/20... Step: 2620... Loss: 1.1187... Val Loss: 1.2447\n",
      "Epoch: 19/20... Step: 2630... Loss: 1.1246... Val Loss: 1.2472\n",
      "Epoch: 19/20... Step: 2640... Loss: 1.1335... Val Loss: 1.2448\n",
      "Epoch: 20/20... Step: 2650... Loss: 1.1338... Val Loss: 1.2402\n",
      "Epoch: 20/20... Step: 2660... Loss: 1.1469... Val Loss: 1.2378\n",
      "Epoch: 20/20... Step: 2670... Loss: 1.1425... Val Loss: 1.2480\n",
      "Epoch: 20/20... Step: 2680... Loss: 1.1283... Val Loss: 1.2488\n",
      "Epoch: 20/20... Step: 2690... Loss: 1.1247... Val Loss: 1.2393\n",
      "Epoch: 20/20... Step: 2700... Loss: 1.1377... Val Loss: 1.2369\n",
      "Epoch: 20/20... Step: 2710... Loss: 1.1040... Val Loss: 1.2437\n",
      "Epoch: 20/20... Step: 2720... Loss: 1.1094... Val Loss: 1.2388\n",
      "Epoch: 20/20... Step: 2730... Loss: 1.1077... Val Loss: 1.2501\n",
      "Epoch: 20/20... Step: 2740... Loss: 1.1047... Val Loss: 1.2449\n",
      "Epoch: 20/20... Step: 2750... Loss: 1.1146... Val Loss: 1.2592\n",
      "Epoch: 20/20... Step: 2760... Loss: 1.1067... Val Loss: 1.2479\n",
      "Epoch: 20/20... Step: 2770... Loss: 1.1460... Val Loss: 1.2500\n",
      "Epoch: 20/20... Step: 2780... Loss: 1.1755... Val Loss: 1.2379\n"
     ]
    }
   ],
   "source": [
    "batch_size = 128\n",
    "seq_length = 100\n",
    "n_epochs =  20 # start small if you are just testing initial behavior\n",
    "\n",
    "# train the model\n",
    "train(net, encoded, epochs=n_epochs, batch_size=batch_size, seq_length=seq_length, lr=0.001, print_every=10)"
   ]
  },
  {
   "cell_type": "markdown",
   "metadata": {},
   "source": [
    "## Getting the best model\n",
    "\n",
    "To set your hyperparameters to get the best performance, you'll want to watch the training and validation losses. If your training loss is much lower than the validation loss, you're overfitting. Increase regularization (more dropout) or use a smaller network. If the training and validation losses are close, you're underfitting so you can increase the size of the network."
   ]
  },
  {
   "cell_type": "markdown",
   "metadata": {},
   "source": [
    "## Hyperparameters\n",
    "\n",
    "Here are the hyperparameters for the network.\n",
    "\n",
    "In defining the model:\n",
    "* `n_hidden` - The number of units in the hidden layers.\n",
    "* `n_layers` - Number of hidden LSTM layers to use.\n",
    "\n",
    "We assume that dropout probability and learning rate will be kept at the default, in this example.\n",
    "\n",
    "And in training:\n",
    "* `batch_size` - Number of sequences running through the network in one pass.\n",
    "* `seq_length` - Number of characters in the sequence the network is trained on. Larger is better typically, the network will learn more long range dependencies. But it takes longer to train. 100 is typically a good number here.\n",
    "* `lr` - Learning rate for training\n",
    "\n",
    "Here's some good advice from Andrej Karpathy on training the network. I'm going to copy it in here for your benefit, but also link to [where it originally came from](https://github.com/karpathy/char-rnn#tips-and-tricks).\n",
    "\n",
    "> ## Tips and Tricks\n",
    "\n",
    ">### Monitoring Validation Loss vs. Training Loss\n",
    ">If you're somewhat new to Machine Learning or Neural Networks it can take a bit of expertise to get good models. The most important quantity to keep track of is the difference between your training loss (printed during training) and the validation loss (printed once in a while when the RNN is run on the validation data (by default every 1000 iterations)). In particular:\n",
    "\n",
    "> - If your training loss is much lower than validation loss then this means the network might be **overfitting**. Solutions to this are to decrease your network size, or to increase dropout. For example you could try dropout of 0.5 and so on.\n",
    "> - If your training/validation loss are about equal then your model is **underfitting**. Increase the size of your model (either number of layers or the raw number of neurons per layer)\n",
    "\n",
    "> ### Approximate number of parameters\n",
    "\n",
    "> The two most important parameters that control the model are `n_hidden` and `n_layers`. I would advise that you always use `n_layers` of either 2/3. The `n_hidden` can be adjusted based on how much data you have. The two important quantities to keep track of here are:\n",
    "\n",
    "> - The number of parameters in your model. This is printed when you start training.\n",
    "> - The size of your dataset. 1MB file is approximately 1 million characters.\n",
    "\n",
    ">These two should be about the same order of magnitude. It's a little tricky to tell. Here are some examples:\n",
    "\n",
    "> - I have a 100MB dataset and I'm using the default parameter settings (which currently print 150K parameters). My data size is significantly larger (100 mil >> 0.15 mil), so I expect to heavily underfit. I am thinking I can comfortably afford to make `n_hidden` larger.\n",
    "> - I have a 10MB dataset and running a 10 million parameter model. I'm slightly nervous and I'm carefully monitoring my validation loss. If it's larger than my training loss then I may want to try to increase dropout a bit and see if that helps the validation loss.\n",
    "\n",
    "> ### Best models strategy\n",
    "\n",
    ">The winning strategy to obtaining very good models (if you have the compute time) is to always err on making the network larger (as large as you're willing to wait for it to compute) and then try different dropout values (between 0,1). Whatever model has the best validation performance (the loss, written in the checkpoint filename, low is good) is the one you should use in the end.\n",
    "\n",
    ">It is very common in deep learning to run many different models with many different hyperparameter settings, and in the end take whatever checkpoint gave the best validation performance.\n",
    "\n",
    ">By the way, the size of your training and validation splits are also parameters. Make sure you have a decent amount of data in your validation set or otherwise the validation performance will be noisy and not very informative."
   ]
  },
  {
   "cell_type": "markdown",
   "metadata": {},
   "source": [
    "## Checkpoint\n",
    "\n",
    "After training, we'll save the model so we can load it again later if we need too. Here I'm saving the parameters needed to create the same architecture, the hidden layer hyperparameters and the text characters."
   ]
  },
  {
   "cell_type": "code",
   "execution_count": 25,
   "metadata": {
    "collapsed": true
   },
   "outputs": [],
   "source": [
    "# change the name, for saving multiple files\n",
    "model_name = 'rnn_x_epoch.net'\n",
    "\n",
    "checkpoint = {'n_hidden': net.n_hidden,\n",
    "              'n_layers': net.n_layers,\n",
    "              'state_dict': net.state_dict(),\n",
    "              'tokens': net.chars}\n",
    "\n",
    "with open(model_name, 'wb') as f:\n",
    "    torch.save(checkpoint, f)"
   ]
  },
  {
   "cell_type": "markdown",
   "metadata": {},
   "source": [
    "---\n",
    "## Making Predictions\n",
    "\n",
    "Now that the model is trained, we'll want to sample from it and make predictions about next characters! To sample, we pass in a character and have the network predict the next character. Then we take that character, pass it back in, and get another predicted character. Just keep doing this and you'll generate a bunch of text!\n",
    "\n",
    "### A note on the `predict`  function\n",
    "\n",
    "The output of our RNN is from a fully-connected layer and it outputs a **distribution of next-character scores**.\n",
    "\n",
    "> To actually get the next character, we apply a softmax function, which gives us a *probability* distribution that we can then sample to predict the next character.\n",
    "\n",
    "### Top K sampling\n",
    "\n",
    "Our predictions come from a categorical probability distribution over all the possible characters. We can make the sample text and make it more reasonable to handle (with less variables) by only considering some $K$ most probable characters. This will prevent the network from giving us completely absurd characters while allowing it to introduce some noise and randomness into the sampled text. Read more about [topk, here](https://pytorch.org/docs/stable/torch.html#torch.topk).\n"
   ]
  },
  {
   "cell_type": "code",
   "execution_count": 26,
   "metadata": {
    "collapsed": true
   },
   "outputs": [],
   "source": [
    "def predict(net, char, h=None, top_k=None):\n",
    "        ''' Given a character, predict the next character.\n",
    "            Returns the predicted character and the hidden state.\n",
    "        '''\n",
    "        \n",
    "        # tensor inputs\n",
    "        x = np.array([[net.char2int[char]]])\n",
    "        x = one_hot_encode(x, len(net.chars))\n",
    "        inputs = torch.from_numpy(x)\n",
    "        \n",
    "        if(train_on_gpu):\n",
    "            inputs = inputs.cuda()\n",
    "        \n",
    "        # detach hidden state from history\n",
    "        h = tuple([each.data for each in h])\n",
    "        # get the output of the model\n",
    "        out, h = net(inputs, h)\n",
    "\n",
    "        # get the character probabilities\n",
    "        p = F.softmax(out, dim=1).data\n",
    "        if(train_on_gpu):\n",
    "            p = p.cpu() # move to cpu\n",
    "        \n",
    "        # get top characters\n",
    "        if top_k is None:\n",
    "            top_ch = np.arange(len(net.chars))\n",
    "        else:\n",
    "            p, top_ch = p.topk(top_k)\n",
    "            top_ch = top_ch.numpy().squeeze()\n",
    "        \n",
    "        # select the likely next character with some element of randomness\n",
    "        p = p.numpy().squeeze()\n",
    "        char = np.random.choice(top_ch, p=p/p.sum())\n",
    "        \n",
    "        # return the encoded value of the predicted char and the hidden state\n",
    "        return net.int2char[char], h"
   ]
  },
  {
   "cell_type": "markdown",
   "metadata": {},
   "source": [
    "### Priming and generating text \n",
    "\n",
    "Typically you'll want to prime the network so you can build up a hidden state. Otherwise the network will start out generating characters at random. In general the first bunch of characters will be a little rough since it hasn't built up a long history of characters to predict from."
   ]
  },
  {
   "cell_type": "code",
   "execution_count": 21,
   "metadata": {
    "collapsed": true
   },
   "outputs": [],
   "source": [
    "def sample(net, size, prime='The', top_k=None):\n",
    "        \n",
    "    if(train_on_gpu):\n",
    "        net.cuda()\n",
    "    else:\n",
    "        net.cpu()\n",
    "    \n",
    "    net.eval() # eval mode\n",
    "    \n",
    "    # First off, run through the prime characters\n",
    "    chars = [ch for ch in prime]\n",
    "    h = net.init_hidden(1)\n",
    "    for ch in prime:\n",
    "        char, h = predict(net, ch, h, top_k=top_k)\n",
    "\n",
    "    chars.append(char)\n",
    "    \n",
    "    # Now pass in the previous character and get a new one\n",
    "    for ii in range(size):\n",
    "        char, h = predict(net, chars[-1], h, top_k=top_k)\n",
    "        chars.append(char)\n",
    "\n",
    "    return ''.join(chars)"
   ]
  },
  {
   "cell_type": "code",
   "execution_count": 27,
   "metadata": {
    "collapsed": true
   },
   "outputs": [
    {
     "output_type": "stream",
     "name": "stdout",
     "text": [
      "The day comes\nfrom the diringly for a strict prayer and for her a forms and that he\nwere simply thinking, and she could not help becoming to deat.\n\n\"And when you ask you to get ill to take indeed in him and have the\nservice, then they were as in the man who here to deceive her in\nhis hope. And this set and contents, with the milk of her fingers. I should\nconsurt it at the things that she would be absorbed to her, and\nwalked it. If you could not be different, but I have noticed to thing\nwhen I don't know. All I can do there, it must be of the state,\" said\nVronsky.\n\n\"I shall never be of his father and her husband.\"\n\n\"I have asraged the steps, I saw her to tell you. What hear he? I will speak\non your part,\" Alexey Alexandrovitch said to himself, still his brother saying\nhimself, and smiling, would have gasted the station and still mere simple to\nher another and without the fact as all the streams of conversations\nshe should see, and all the seeing his hat and had already come back again,\nbut he went to\n"
     ]
    }
   ],
   "source": [
    "print(sample(net, 1000, prime='The day comes', top_k=5))"
   ]
  },
  {
   "cell_type": "markdown",
   "metadata": {},
   "source": [
    "## Loading a checkpoint"
   ]
  },
  {
   "cell_type": "code",
   "execution_count": 28,
   "metadata": {
    "collapsed": true
   },
   "outputs": [
    {
     "output_type": "execute_result",
     "data": {
      "text/plain": [
       "<All keys matched successfully>"
      ]
     },
     "metadata": {},
     "execution_count": 28
    }
   ],
   "source": [
    "# Here we have loaded in a model that trained over 20 epochs `rnn_20_epoch.net`\n",
    "with open('rnn_x_epoch.net', 'rb') as f:\n",
    "    checkpoint = torch.load(f)\n",
    "    \n",
    "loaded = CharRNN(checkpoint['tokens'], n_hidden=checkpoint['n_hidden'], n_layers=checkpoint['n_layers'])\n",
    "loaded.load_state_dict(checkpoint['state_dict'])"
   ]
  },
  {
   "cell_type": "code",
   "execution_count": 29,
   "metadata": {
    "collapsed": true
   },
   "outputs": [
    {
     "output_type": "stream",
     "name": "stdout",
     "text": [
      "And Levin said\nin that strain a chair.\n\n\"It's the same son. We make up, and I don't take him about me.\"\n\n\"Well, I'm not angry to him.\"\n\n\"Oh, that's there there?\" asked Sviazhsky.\n\n\"Alexey! I wanted to get it about at one for a man without the position of\nthem, take him any stare.\"\n\nTears smiled in a few chief painted off, and went up, he was coming\nin once sone and shot her heart, atterpited the princess and his\nbrother's anster for his wife, and was sitting in the mind that he had\nnothing to say.\n\n\"What have you come to do they like it?\"\n\nTo their memory, his face was sitting away the misto before the steps of\nthe creath.\n\n\"You see the sight of the same time. And I don't know the means of\nstanding, and still marry in toom.... And I went on some more in the same art which\nI cannot believe that to be at all such askate with you to say. But\nI'm very good.\"\n\nStepan Arkadyevitch asked whether he was standing in the connection in\nthe sold heart of the middle of the forest of his wife's eyes, and\nseeing her how, and waiting to see the clearest facts and shouting\nwith the chore of the passion of strange.\n\n\"Well, anyway?\"\n\nLevin had been so glad that the countess seemed with the sort of set all the\nproperty of the petulor of the peasants, and then there are the convinced to\na little house. There were something they always felt that to her to she had\nnow seemed nothing but her that he was so awful that that he would\nnot be angry to the footman, were far than, whom he had never\nceased from him, and to see her there, the more one were that the princess\ncould have a good stir only the child talk of the strength to see him, and\nshe felt also, they went out of the tentry in the company of the\nmade and sense of things with their face. And the part of the world he\nwas not seeing for the cattle of work of the successful state of\npeople had been the sense in the country, but he had asreed in him. The\npriest. This was no one finain an offer. She would shoot himself, and the\nsame way of calming wheth\n"
     ]
    }
   ],
   "source": [
    "# Sample using a loaded model\n",
    "print(sample(loaded, 2000, top_k=5, prime=\"And Levin said\"))"
   ]
  },
  {
   "cell_type": "code",
   "execution_count": null,
   "metadata": {
    "collapsed": true
   },
   "outputs": [],
   "source": []
  }
 ],
 "metadata": {
  "kernelspec": {
   "display_name": "Python 3",
   "language": "python",
   "name": "python3"
  },
  "language_info": {
   "codemirror_mode": {
    "name": "ipython",
    "version": 3
   },
   "file_extension": ".py",
   "mimetype": "text/x-python",
   "name": "python",
   "nbconvert_exporter": "python",
   "pygments_lexer": "ipython3",
   "version": "3.7.9-final"
  }
 },
 "nbformat": 4,
 "nbformat_minor": 2
}