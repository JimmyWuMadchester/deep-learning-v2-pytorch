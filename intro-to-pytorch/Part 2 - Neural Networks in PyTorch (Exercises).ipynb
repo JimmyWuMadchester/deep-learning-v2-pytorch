{
 "cells": [
  {
   "cell_type": "markdown",
   "metadata": {},
   "source": [
    "# Neural networks with PyTorch\n",
    "\n",
    "Deep learning networks tend to be massive with dozens or hundreds of layers, that's where the term \"deep\" comes from. You can build one of these deep networks using only weight matrices as we did in the previous notebook, but in general it's very cumbersome and difficult to implement. PyTorch has a nice module `nn` that provides a nice way to efficiently build large neural networks."
   ]
  },
  {
   "cell_type": "code",
   "execution_count": 1,
   "metadata": {
    "collapsed": true
   },
   "outputs": [],
   "source": [
    "# Import necessary packages\n",
    "\n",
    "%matplotlib inline\n",
    "%config InlineBackend.figure_format = 'retina'\n",
    "\n",
    "import numpy as np\n",
    "import torch\n",
    "\n",
    "import helper\n",
    "\n",
    "import matplotlib.pyplot as plt"
   ]
  },
  {
   "cell_type": "markdown",
   "metadata": {},
   "source": [
    "\n",
    "Now we're going to build a larger network that can solve a (formerly) difficult problem, identifying text in an image. Here we'll use the MNIST dataset which consists of greyscale handwritten digits. Each image is 28x28 pixels, you can see a sample below\n",
    "\n",
    "<img src='assets/mnist.png'>\n",
    "\n",
    "Our goal is to build a neural network that can take one of these images and predict the digit in the image.\n",
    "\n",
    "First up, we need to get our dataset. This is provided through the `torchvision` package. The code below will download the MNIST dataset, then create training and test datasets for us. Don't worry too much about the details here, you'll learn more about this later."
   ]
  },
  {
   "cell_type": "code",
   "execution_count": 2,
   "metadata": {
    "collapsed": true
   },
   "outputs": [],
   "source": [
    "### Run this cell\n",
    "\n",
    "from torchvision import datasets, transforms\n",
    "\n",
    "# Define a transform to normalize the data\n",
    "transform = transforms.Compose([transforms.ToTensor(),\n",
    "                              transforms.Normalize((0.5,), (0.5,)),\n",
    "                              ])\n",
    "\n",
    "# Download and load the training data\n",
    "trainset = datasets.MNIST('~/.pytorch/MNIST_data/', download=True, train=True, transform=transform)\n",
    "trainloader = torch.utils.data.DataLoader(trainset, batch_size=64, shuffle=True)"
   ]
  },
  {
   "cell_type": "markdown",
   "metadata": {},
   "source": [
    "We have the training data loaded into `trainloader` and we make that an iterator with `iter(trainloader)`. Later, we'll use this to loop through the dataset for training, like\n",
    "\n",
    "```python\n",
    "for image, label in trainloader:\n",
    "    ## do things with images and labels\n",
    "```\n",
    "\n",
    "You'll notice I created the `trainloader` with a batch size of 64, and `shuffle=True`. The batch size is the number of images we get in one iteration from the data loader and pass through our network, often called a *batch*. And `shuffle=True` tells it to shuffle the dataset every time we start going through the data loader again. But here I'm just grabbing the first batch so we can check out the data. We can see below that `images` is just a tensor with size `(64, 1, 28, 28)`. So, 64 images per batch, 1 color channel, and 28x28 images."
   ]
  },
  {
   "cell_type": "code",
   "execution_count": 3,
   "metadata": {
    "collapsed": true
   },
   "outputs": [
    {
     "output_type": "stream",
     "name": "stdout",
     "text": [
      "<class 'torch.Tensor'>\ntorch.Size([64, 1, 28, 28])\ntorch.Size([64])\n"
     ]
    }
   ],
   "source": [
    "dataiter = iter(trainloader)\n",
    "images, labels = dataiter.next()\n",
    "print(type(images))\n",
    "print(images.shape)\n",
    "print(labels.shape)"
   ]
  },
  {
   "cell_type": "markdown",
   "metadata": {},
   "source": [
    "This is what one of the images looks like. "
   ]
  },
  {
   "cell_type": "code",
   "execution_count": 4,
   "metadata": {
    "collapsed": true
   },
   "outputs": [
    {
     "output_type": "display_data",
     "data": {
      "text/plain": "<Figure size 432x288 with 1 Axes>",
      "image/png": "[encoded data removed]"
     },
     "metadata": {
      "image/png": {
       "width": 251,
       "height": 248
      },
      "needs_background": "light"
     }
    }
   ],
   "source": [
    "plt.imshow(images[1].numpy().squeeze(), cmap='Greys_r');"
   ]
  },
  {
   "cell_type": "markdown",
   "metadata": {},
   "source": [
    "First, let's try to build a simple network for this dataset using weight matrices and matrix multiplications. Then, we'll see how to do it using PyTorch's `nn` module which provides a much more convenient and powerful method for defining network architectures.\n",
    "\n",
    "The networks you've seen so far are called *fully-connected* or *dense* networks. Each unit in one layer is connected to each unit in the next layer. In fully-connected networks, the input to each layer must be a one-dimensional vector (which can be stacked into a 2D tensor as a batch of multiple examples). However, our images are 28x28 2D tensors, so we need to convert them into 1D vectors. Thinking about sizes, we need to convert the batch of images with shape `(64, 1, 28, 28)` to a have a shape of `(64, 784)`, 784 is 28 times 28. This is typically called *flattening*, we flattened the 2D images into 1D vectors.\n",
    "\n",
    "Previously you built a network with one output unit. Here we need 10 output units, one for each digit. We want our network to predict the digit shown in an image, so what we'll do is calculate probabilities that the image is of any one digit or class. This ends up being a discrete probability distribution over the classes (digits) that tells us the most likely class for the image. That means we need 10 output units for the 10 classes (digits). We'll see how to convert the network output into a probability distribution next.\n",
    "\n",
    "> **Exercise:** Flatten the batch of images `images`. Then build a multi-layer network with 784 input units, 256 hidden units, and 10 output units using random tensors for the weights and biases. For now, use a sigmoid activation for the hidden layer. Leave the output layer without an activation, we'll add one that gives us a probability distribution next."
   ]
  },
  {
   "cell_type": "code",
   "execution_count": 5,
   "metadata": {},
   "outputs": [
    {
     "output_type": "stream",
     "name": "stdout",
     "text": [
      "torch.Size([64, 1, 28, 28])\ntorch.Size([64, 784])\ntorch.Size([64, 784])\n"
     ]
    }
   ],
   "source": [
    "print(images.shape)\n",
    "print(images.view(64, 784).shape)\n",
    "print(images.view(images.shape[0], -1).shape)"
   ]
  },
  {
   "cell_type": "code",
   "execution_count": 6,
   "metadata": {
    "collapsed": true
   },
   "outputs": [
    {
     "output_type": "stream",
     "name": "stdout",
     "text": [
      "tensor([[-15.1748,   2.0390, -11.1780,  -5.0420, -28.9604,  10.1326,  13.6928,\n          -7.1266,   7.9890, -17.8420],\n        [ -9.2962,   2.4488, -13.4389,  -0.4460, -27.3891,   9.1270,   6.8736,\n         -14.8851,   6.0360,  -7.1400],\n        [  1.5859,   8.8351, -15.8357,  -8.2886, -28.9789,  13.3354,  22.4873,\n          -0.6350,   4.7844, -17.9842],\n        [ -9.7555,   3.3650, -14.8008,  -7.1176, -29.1263,  10.9517,  15.2249,\n          -7.7592,   3.3768, -14.6773],\n        [-12.3016,  11.0534,  -7.1804,  -5.3723, -27.0752,  12.5933,  15.1413,\n          -8.4022,  -3.6040,  -8.8792],\n        [ -9.8915,  13.4555, -20.4936,  -0.7690, -34.5936,  13.1553,  11.2115,\n          -1.3434,   2.3340,  -0.4120],\n        [  0.0990,   5.0428,  -3.6871,  -0.9646, -37.0644,  12.8415,  28.3621,\n           0.6160,   8.0032, -17.0296],\n        [ -1.6455,   6.4257, -13.6156,  -2.3135, -19.2568,  10.0099,   4.0561,\n          -4.6094,   3.2526,  -8.3008],\n        [ -2.8496,   1.0375, -21.5225,  -6.3596, -27.6075,  17.4179,  21.1474,\n          -2.2269,  -3.3786,  -7.2055],\n        [ -2.1650,  10.0310, -24.8199,  -2.1832, -32.8906,  14.4912,  14.7015,\n         -12.7041,   2.2924,  -6.8271],\n        [  1.0925,   7.2163, -21.6772,  -8.9844, -27.3190,   2.0040,   9.1391,\n          -8.9139,  12.9047, -10.5945],\n        [  0.7199,   0.4627, -23.9702, -12.6355, -33.2548,  20.0012,  16.4874,\n          -9.7979,   8.2294, -21.9515],\n        [ -5.2631,   7.9667, -15.4157,  -7.0403, -30.4391,  17.9371,  20.5690,\n         -18.7569,  -2.3013, -13.0991],\n        [-17.0381,   2.3796,  -7.9386, -22.7482, -19.1811,  20.3059,   5.4843,\n         -11.0246,  -4.6928, -22.8825],\n        [ -7.6081,  20.4925, -12.9907,  -2.5224, -24.6617,  15.9098,  20.2516,\n         -10.3721,   5.5122, -15.3542],\n        [ -8.5069,   9.4755,  -8.7287,  -9.5118, -17.3394,   9.8275,  17.5347,\n           0.9692,  -9.8051, -23.2783],\n        [  1.5758,  21.3095, -22.6883,  -1.4753, -32.2311,   7.0639,  16.5549,\n           4.1369,   6.6896,  -3.6444],\n        [ -3.2043,   6.9043, -12.7275,  -1.9527, -28.0721,   0.5084,  11.8045,\n          -7.0124,  -3.7529, -17.5094],\n        [ -4.3257,   3.9811,  -2.1678,  -5.9400, -34.1409,   8.9300,  16.2615,\n          -6.0086,  -0.9382, -14.0061],\n        [ -5.8612,  -1.2268, -10.7164,  -7.2308, -26.0048,  23.7232,  16.2373,\n          -8.4403,   6.1320, -13.0128],\n        [-10.5054,   3.3817, -11.0349,  -4.8740, -24.7489,   7.7756,  17.8600,\n          -9.9257,   3.2815, -12.7419],\n        [-11.4296,   8.2155,  -5.0572,  -7.1835, -28.7253,   4.1550,  12.2795,\n          -5.9657,   6.6733, -15.8081],\n        [ -9.9807,   3.5974, -10.7249, -15.4828, -24.0809,  20.1487,  11.4925,\n          -7.5025,   2.9404, -13.7994],\n        [-10.8683,   9.1472,  -1.9426,  -6.8341, -20.9616,  11.6264,  20.4732,\n          -9.7253,   5.9883, -11.2249],\n        [ -4.4181,   6.5460, -20.4830,  -6.2961, -31.2416,  13.1620,  22.8609,\n           1.1971,   5.5477, -14.2995],\n        [ -7.4044,   6.6047, -11.4952,  -5.7761, -28.9253,  16.0585,   7.6545,\n          -9.2721,  -3.9635, -11.5537],\n        [-10.9475,   5.1387, -11.7762,  -8.4707, -31.2585,   3.8519,  12.4674,\n          -7.4964,   4.3756, -17.1549],\n        [  2.1804,   0.9975, -16.6287,  -7.9855, -20.4974,  15.2636,  11.0656,\n         -10.4261,   2.6835, -11.3178],\n        [ -6.0338,   1.8016, -10.4771,  -2.2336, -28.5599,  19.8025,  15.5463,\n          -0.8730,  -1.1381,  -0.8653],\n        [-11.5509,  -2.5960,  -5.4216,  -4.3499, -35.5162,  22.6640,  19.0264,\n         -17.5425,   7.8793,  -6.2038],\n        [-13.1665,  -0.1242,  -4.9984, -14.1078, -29.4145,   7.0915,  21.2020,\n          -8.6582,  -9.8925, -19.3677],\n        [ -4.3658,   9.2556, -12.7683,  -7.4022, -31.6818,  11.1617,  14.3147,\n         -12.1825,   1.3189, -14.4598],\n        [-11.9736,   7.2824,  -8.1109,  -9.6690, -29.6378,   1.9199,  12.4517,\n           1.0675,  -5.1189, -11.7191],\n        [ -9.6227,   5.0832, -12.7854,   4.2269, -25.6875,  19.7904,  17.6158,\n          -1.5141,   6.2084, -10.3519],\n        [-11.5701,   8.4897, -19.7828,  -3.2659, -34.8575,  15.1908,  10.3372,\n          -4.7750,   7.9227,  -7.8292],\n        [ -5.2058,  11.8581, -18.5795, -10.9187, -27.4069,  17.3582,   5.8309,\n          -0.8225,   7.0128, -18.5956],\n        [ -3.8586,  10.0407,  -3.9190,  -0.9347, -26.0735,  15.9783,  21.4251,\n           3.4728,   5.0603, -12.6491],\n        [ -5.0108,  -3.8654,  -7.1086,  -5.0899, -21.9480,  14.7579,  14.4143,\n         -14.8904,   7.8829, -18.3049],\n        [-12.4834,  13.1065, -11.6960,  -4.6016, -21.7394,  23.0676,  13.4397,\n          -1.2871,  -4.0364, -16.4475],\n        [  1.4187,   0.5885, -10.5134,  -0.1844, -25.4702,  14.3582,  17.8770,\n         -12.2231,   6.1117,  -7.7228],\n        [ -3.4569,   8.8754,  -8.7680,   8.2429, -36.2174,  10.2010,  10.4394,\n         -17.3308,  -2.0683, -19.7822],\n        [  0.3499,  13.6876, -21.1266,  -6.2889, -28.1787,  18.6290,  15.1208,\n          -7.1784,   6.2469, -10.8695],\n        [-11.5036,  -1.6761, -19.2768,  -7.7691, -17.6064,   8.7551,  17.8866,\n          -8.4907,   7.9705, -12.2213],\n        [-10.2216,  15.7111,  -9.3419,   0.8186, -29.0140,   7.6895,  22.7429,\n          -8.1968,  -2.6786, -12.6781],\n        [ -2.2268,   7.6148,  -9.3144,  -6.8418, -31.3111,  11.2983,  13.3389,\n          -8.9404,   1.3212, -14.4937],\n        [ -4.6479,   4.4429, -12.0298,  -7.2721, -26.5074,  21.6807,   4.1068,\n          -5.2121,   2.3808, -14.1943],\n        [-11.5577,   2.3603, -13.0403,   8.3496, -23.2044,   4.4261,  16.1282,\n         -11.8171,   1.7152, -14.5969],\n        [-11.0968,   7.5586, -22.8307,  -7.6181, -27.7395,  19.0887,  10.2791,\n         -10.5890,   4.5356, -12.8500],\n        [ -5.2670,   1.5020,  -7.3023, -14.3406, -41.7765,  13.2913,  10.9549,\n         -10.0737,   8.4900, -26.6868],\n        [ -4.5393,   1.3347, -12.8839,   0.0574, -20.1870,  12.8020,  14.1151,\n         -13.3979,  -2.6902,  -3.5858],\n        [ -8.6924,  -0.7454,  -4.4899,  -6.5949, -33.3592,  12.0189,  17.1721,\n          -3.7646,  -4.9140, -18.4384],\n        [ -6.5196,   5.5829, -12.1594,  -7.3945, -27.3720,  18.2283,  13.7114,\n         -16.9669,   1.5249, -18.6538],\n        [ -2.3939,   5.5259,  -2.9185,  -1.7132, -35.8234,  -1.3602,  10.2148,\n          -0.7574,   0.4246, -11.4005],\n        [-22.9205,   7.1014,  -8.5649, -10.3958, -22.3767,  14.0463,   9.6564,\n          -6.0986,   6.1049, -10.7914],\n        [ -4.8338,  -3.3936, -11.7027,  -3.8814, -22.6001,  17.0654,  17.0517,\n         -11.3771,   5.0933, -21.3786],\n        [ -6.4441,   9.2331,  -6.2464,  -1.8593, -34.2858,   9.5395,  10.2735,\n          -3.7608,   0.4484, -26.4822],\n        [ -7.6290,   0.1504, -17.8558, -10.6102, -26.2794,  15.9197,   5.4195,\n           4.2062,   1.4478, -18.6115],\n        [-12.7019,   2.2076, -19.1931, -11.4983, -33.8506,  16.9542,   8.7989,\n          -1.7666,   3.3793, -15.8955],\n        [ -3.1173,   7.6813, -15.1631,  -5.1327, -23.4560,  14.1975,  10.0539,\n          -3.5166,  -1.2235, -15.5732],\n        [ -7.8541,   0.5502,  -8.6917,  -2.2137, -24.2022,   3.8662,  15.9700,\n          -5.2871,   5.3623, -10.4576],\n        [ -6.6035,   7.2712, -19.3507, -10.4689, -15.1166,  11.1542,  17.6108,\n          -6.2963,  -8.3070, -17.7677],\n        [-19.8235,  10.2004, -19.1676, -11.4206, -21.3648,  17.5494,  20.3139,\n          -8.6768,   0.2721,  -4.3825],\n        [ -1.9845,   4.0374, -15.2048, -12.5941, -36.0248,  15.4700,  10.7814,\n          -5.1263,   6.8512, -13.2682],\n        [ -6.6628,   8.4681,  -8.9361,   0.2942, -33.2707,   2.0076,  16.9847,\n         -13.6246,   8.5064,  -5.3318]])\n"
     ]
    }
   ],
   "source": [
    "## Your solution\n",
    "def activation(x):\n",
    "    \"\"\" Sigmoid activation function \n",
    "    \n",
    "        Arguments\n",
    "        ---------\n",
    "        x: torch.Tensor\n",
    "    \"\"\"\n",
    "    return 1/(1+torch.exp(-x))\n",
    "\n",
    "inputs = images.view([64, 784])\n",
    "\n",
    "n_input = 784\n",
    "n_hidden = 256\n",
    "n_output = 10\n",
    "\n",
    "w1 = torch.randn(n_input, n_hidden)\n",
    "b1 = torch.randn(n_hidden)\n",
    "\n",
    "w2 = torch.randn(n_hidden, n_output)\n",
    "b2 = torch.randn(n_output)\n",
    "\n",
    "h = activation(inputs@w1 + b1)\n",
    "\n",
    "# output of your network, should have shape (64,10)\n",
    "out = h@w2 + b2\n",
    "print(out)"
   ]
  },
  {
   "cell_type": "markdown",
   "metadata": {},
   "source": [
    "Now we have 10 outputs for our network. We want to pass in an image to our network and get out a probability distribution over the classes that tells us the likely class(es) the image belongs to. Something that looks like this:\n",
    "<img src='assets/image_distribution.png' width=500px>\n",
    "\n",
    "Here we see that the probability for each class is roughly the same. This is representing an untrained network, it hasn't seen any data yet so it just returns a uniform distribution with equal probabilities for each class.\n",
    "\n",
    "To calculate this probability distribution, we often use the [**softmax** function](https://en.wikipedia.org/wiki/Softmax_function). Mathematically this looks like\n",
    "\n",
    "$$\n",
    "\\Large \\sigma(x_i) = \\cfrac{e^{x_i}}{\\sum_k^K{e^{x_k}}}\n",
    "$$\n",
    "\n",
    "What this does is squish each input $x_i$ between 0 and 1 and normalizes the values to give you a proper probability distribution where the probabilites sum up to one.\n",
    "\n",
    "> **Exercise:** Implement a function `softmax` that performs the softmax calculation and returns probability distributions for each example in the batch. Note that you'll need to pay attention to the shapes when doing this. If you have a tensor `a` with shape `(64, 10)` and a tensor `b` with shape `(64,)`, doing `a/b` will give you an error because PyTorch will try to do the division across the columns (called broadcasting) but you'll get a size mismatch. The way to think about this is for each of the 64 examples, you only want to divide by one value, the sum in the denominator. So you need `b` to have a shape of `(64, 1)`. This way PyTorch will divide the 10 values in each row of `a` by the one value in each row of `b`. Pay attention to how you take the sum as well. You'll need to define the `dim` keyword in `torch.sum`. Setting `dim=0` takes the sum across the rows while `dim=1` takes the sum across the columns."
   ]
  },
  {
   "cell_type": "code",
   "execution_count": 7,
   "metadata": {
    "collapsed": true
   },
   "outputs": [
    {
     "output_type": "stream",
     "name": "stdout",
     "text": [
      "torch.Size([64, 10])\ntensor([1.0000, 1.0000, 1.0000, 1.0000, 1.0000, 1.0000, 1.0000, 1.0000, 1.0000,\n        1.0000, 1.0000, 1.0000, 1.0000, 1.0000, 1.0000, 1.0000, 1.0000, 1.0000,\n        1.0000, 1.0000, 1.0000, 1.0000, 1.0000, 1.0000, 1.0000, 1.0000, 1.0000,\n        1.0000, 1.0000, 1.0000, 1.0000, 1.0000, 1.0000, 1.0000, 1.0000, 1.0000,\n        1.0000, 1.0000, 1.0000, 1.0000, 1.0000, 1.0000, 1.0000, 1.0000, 1.0000,\n        1.0000, 1.0000, 1.0000, 1.0000, 1.0000, 1.0000, 1.0000, 1.0000, 1.0000,\n        1.0000, 1.0000, 1.0000, 1.0000, 1.0000, 1.0000, 1.0000, 1.0000, 1.0000,\n        1.0000])\n"
     ]
    }
   ],
   "source": [
    "def softmax(x):\n",
    "    ## TODO: Implement the softmax function here\n",
    "    expX = torch.exp(x)\n",
    "    sumExpX = torch.sum(expX, dim=1).view(-1,1)\n",
    "    return expX / sumExpX\n",
    "\n",
    "# Here, out should be the output of the network in the previous excercise with shape (64,10)\n",
    "probabilities = softmax(out)\n",
    "\n",
    "# Does it have the right shape? Should be (64, 10)\n",
    "print(probabilities.shape)\n",
    "# Does it sum to 1?\n",
    "print(probabilities.sum(dim=1))"
   ]
  },
  {
   "cell_type": "markdown",
   "metadata": {},
   "source": [
    "## Building networks with PyTorch\n",
    "\n",
    "PyTorch provides a module `nn` that makes building networks much simpler. Here I'll show you how to build the same one as above with 784 inputs, 256 hidden units, 10 output units and a softmax output."
   ]
  },
  {
   "cell_type": "code",
   "execution_count": 8,
   "metadata": {
    "collapsed": true
   },
   "outputs": [],
   "source": [
    "from torch import nn"
   ]
  },
  {
   "cell_type": "code",
   "execution_count": 9,
   "metadata": {
    "collapsed": true
   },
   "outputs": [],
   "source": [
    "class Network(nn.Module):\n",
    "    def __init__(self):\n",
    "        super().__init__()\n",
    "        \n",
    "        # Inputs to hidden layer linear transformation\n",
    "        self.hidden = nn.Linear(784, 256)\n",
    "        # Output layer, 10 units - one for each digit\n",
    "        self.output = nn.Linear(256, 10)\n",
    "        \n",
    "        # Define sigmoid activation and softmax output \n",
    "        self.sigmoid = nn.Sigmoid()\n",
    "        self.softmax = nn.Softmax(dim=1)\n",
    "        \n",
    "    def forward(self, x):\n",
    "        # Pass the input tensor through each of our operations\n",
    "        x = self.hidden(x)\n",
    "        x = self.sigmoid(x)\n",
    "        x = self.output(x)\n",
    "        x = self.softmax(x)\n",
    "        \n",
    "        return x"
   ]
  },
  {
   "cell_type": "markdown",
   "metadata": {},
   "source": [
    "Let's go through this bit by bit.\n",
    "\n",
    "```python\n",
    "class Network(nn.Module):\n",
    "```\n",
    "\n",
    "Here we're inheriting from `nn.Module`. Combined with `super().__init__()` this creates a class that tracks the architecture and provides a lot of useful methods and attributes. It is mandatory to inherit from `nn.Module` when you're creating a class for your network. The name of the class itself can be anything.\n",
    "\n",
    "```python\n",
    "self.hidden = nn.Linear(784, 256)\n",
    "```\n",
    "\n",
    "This line creates a module for a linear transformation, $x\\mathbf{W} + b$, with 784 inputs and 256 outputs and assigns it to `self.hidden`. The module automatically creates the weight and bias tensors which we'll use in the `forward` method. You can access the weight and bias tensors once the network (`net`) is created with `net.hidden.weight` and `net.hidden.bias`.\n",
    "\n",
    "```python\n",
    "self.output = nn.Linear(256, 10)\n",
    "```\n",
    "\n",
    "Similarly, this creates another linear transformation with 256 inputs and 10 outputs.\n",
    "\n",
    "```python\n",
    "self.sigmoid = nn.Sigmoid()\n",
    "self.softmax = nn.Softmax(dim=1)\n",
    "```\n",
    "\n",
    "Here I defined operations for the sigmoid activation and softmax output. Setting `dim=1` in `nn.Softmax(dim=1)` calculates softmax across the columns.\n",
    "\n",
    "```python\n",
    "def forward(self, x):\n",
    "```\n",
    "\n",
    "PyTorch networks created with `nn.Module` must have a `forward` method defined. It takes in a tensor `x` and passes it through the operations you defined in the `__init__` method.\n",
    "\n",
    "```python\n",
    "x = self.hidden(x)\n",
    "x = self.sigmoid(x)\n",
    "x = self.output(x)\n",
    "x = self.softmax(x)\n",
    "```\n",
    "\n",
    "Here the input tensor `x` is passed through each operation and reassigned to `x`. We can see that the input tensor goes through the hidden layer, then a sigmoid function, then the output layer, and finally the softmax function. It doesn't matter what you name the variables here, as long as the inputs and outputs of the operations match the network architecture you want to build. The order in which you define things in the `__init__` method doesn't matter, but you'll need to sequence the operations correctly in the `forward` method.\n",
    "\n",
    "Now we can create a `Network` object."
   ]
  },
  {
   "cell_type": "code",
   "execution_count": 10,
   "metadata": {
    "collapsed": true
   },
   "outputs": [
    {
     "output_type": "execute_result",
     "data": {
      "text/plain": [
       "Network(\n",
       "  (hidden): Linear(in_features=784, out_features=256, bias=True)\n",
       "  (output): Linear(in_features=256, out_features=10, bias=True)\n",
       "  (sigmoid): Sigmoid()\n",
       "  (softmax): Softmax(dim=1)\n",
       ")"
      ]
     },
     "metadata": {},
     "execution_count": 10
    }
   ],
   "source": [
    "# Create the network and look at it's text representation\n",
    "model = Network()\n",
    "model"
   ]
  },
  {
   "cell_type": "markdown",
   "metadata": {},
   "source": [
    "You can define the network somewhat more concisely and clearly using the `torch.nn.functional` module. This is the most common way you'll see networks defined as many operations are simple element-wise functions. We normally import this module as `F`, `import torch.nn.functional as F`."
   ]
  },
  {
   "cell_type": "code",
   "execution_count": 11,
   "metadata": {
    "collapsed": true
   },
   "outputs": [],
   "source": [
    "import torch.nn.functional as F\n",
    "\n",
    "class Network(nn.Module):\n",
    "    def __init__(self):\n",
    "        super().__init__()\n",
    "        # Inputs to hidden layer linear transformation\n",
    "        self.hidden = nn.Linear(784, 256)\n",
    "        # Output layer, 10 units - one for each digit\n",
    "        self.output = nn.Linear(256, 10)\n",
    "        \n",
    "    def forward(self, x):\n",
    "        # Hidden layer with sigmoid activation\n",
    "        x = F.sigmoid(self.hidden(x))\n",
    "        # Output layer with softmax activation\n",
    "        x = F.softmax(self.output(x), dim=1)\n",
    "        \n",
    "        return x"
   ]
  },
  {
   "cell_type": "markdown",
   "metadata": {},
   "source": [
    "### Activation functions\n",
    "\n",
    "So far we've only been looking at the sigmoid activation function, but in general any function can be used as an activation function. The only requirement is that for a network to approximate a non-linear function, the activation functions must be non-linear. Here are a few more examples of common activation functions: Tanh (hyperbolic tangent), and ReLU (rectified linear unit).\n",
    "\n",
    "<img src=\"assets/activation.png\" width=700px>\n",
    "\n",
    "In practice, the ReLU function is used almost exclusively as the activation function for hidden layers."
   ]
  },
  {
   "cell_type": "markdown",
   "metadata": {},
   "source": [
    "### Your Turn to Build a Network\n",
    "\n",
    "<img src=\"assets/mlp_mnist.png\" width=600px>\n",
    "\n",
    "> **Exercise:** Create a network with 784 input units, a hidden layer with 128 units and a ReLU activation, then a hidden layer with 64 units and a ReLU activation, and finally an output layer with a softmax activation as shown above. You can use a ReLU activation with the `nn.ReLU` module or `F.relu` function.\n",
    "\n",
    "It's good practice to name your layers by their type of network, for instance 'fc' to represent a fully-connected layer. As you code your solution, use `fc1`, `fc2`, and `fc3` as your layer names."
   ]
  },
  {
   "cell_type": "code",
   "execution_count": 12,
   "metadata": {
    "collapsed": true,
    "scrolled": true
   },
   "outputs": [],
   "source": [
    "import torch.nn.functional as F\n",
    "\n",
    "## Your solution here\n",
    "class Network(nn.Module):\n",
    "    def __init__(self):\n",
    "        super().__init__()\n",
    "        self.fc1 = nn.Linear(784, 128)\n",
    "        self.fc2 = nn.Linear(128, 64)\n",
    "        self.fc3 = nn.Linear(64, 10)\n",
    "        \n",
    "    def forward(self, x):\n",
    "        # Hidden layer with ReLU activation\n",
    "        x = F.relu(self.fc1(x))\n",
    "        x = F.relu(self.fc2(x))\n",
    "        # Output layer with softmax activation\n",
    "        x = F.softmax(self.fc3(x), dim=1)\n",
    "        \n",
    "        return x"
   ]
  },
  {
   "cell_type": "code",
   "execution_count": 13,
   "metadata": {},
   "outputs": [
    {
     "output_type": "execute_result",
     "data": {
      "text/plain": [
       "Network(\n",
       "  (fc1): Linear(in_features=784, out_features=128, bias=True)\n",
       "  (fc2): Linear(in_features=128, out_features=64, bias=True)\n",
       "  (fc3): Linear(in_features=64, out_features=10, bias=True)\n",
       ")"
      ]
     },
     "metadata": {},
     "execution_count": 13
    }
   ],
   "source": [
    "model = Network()\n",
    "model"
   ]
  },
  {
   "cell_type": "markdown",
   "metadata": {},
   "source": [
    "### Initializing weights and biases\n",
    "\n",
    "The weights and such are automatically initialized for you, but it's possible to customize how they are initialized. The weights and biases are tensors attached to the layer you defined, you can get them with `model.fc1.weight` for instance."
   ]
  },
  {
   "cell_type": "code",
   "execution_count": 14,
   "metadata": {
    "collapsed": true
   },
   "outputs": [
    {
     "output_type": "stream",
     "name": "stdout",
     "text": [
      "Parameter containing:\ntensor([[ 0.0255,  0.0151, -0.0268,  ..., -0.0213, -0.0065, -0.0183],\n        [ 0.0229, -0.0337,  0.0301,  ...,  0.0048,  0.0284,  0.0058],\n        [ 0.0182, -0.0045, -0.0118,  ...,  0.0267, -0.0060, -0.0075],\n        ...,\n        [-0.0091, -0.0225, -0.0206,  ..., -0.0204,  0.0043, -0.0256],\n        [ 0.0223, -0.0165,  0.0023,  ..., -0.0085, -0.0179,  0.0166],\n        [-0.0148,  0.0208,  0.0284,  ...,  0.0111,  0.0011, -0.0254]],\n       requires_grad=True)\nParameter containing:\ntensor([ 9.3305e-03, -2.5175e-02,  2.9530e-02,  5.2406e-03,  1.4139e-03,\n         2.0589e-02,  3.3518e-02,  1.5596e-02, -2.1039e-02, -2.2280e-02,\n         7.3079e-03, -2.2956e-02,  9.5438e-03, -2.8722e-03,  5.0324e-03,\n         2.7507e-02,  3.3086e-02, -1.9248e-02, -2.3614e-02, -1.4899e-02,\n        -4.1810e-03,  5.2948e-03,  7.7915e-03, -2.4609e-02,  5.9660e-03,\n         3.0930e-02, -2.8660e-02,  1.3334e-02,  1.1473e-02, -2.5419e-03,\n         2.6321e-02,  2.8705e-02, -2.6590e-03,  2.8771e-04,  2.6855e-02,\n        -3.3303e-02,  2.7208e-02, -7.9425e-03, -2.0996e-02, -4.8182e-04,\n        -1.2390e-02,  2.0802e-02,  2.1929e-02, -1.2842e-02, -2.6743e-04,\n        -1.9104e-02,  2.7877e-02, -1.2800e-02, -1.5252e-03,  2.7385e-02,\n         1.8323e-02, -2.6812e-02, -1.4347e-02, -6.2213e-03,  1.9379e-02,\n        -2.7628e-02,  3.4141e-02,  9.5337e-03, -3.1933e-02,  2.1338e-02,\n         3.9094e-03, -2.2627e-05, -9.0327e-03, -2.4755e-03,  3.6769e-03,\n         1.6394e-02, -5.4098e-03, -1.1329e-02,  5.6102e-03,  1.9752e-02,\n        -2.2101e-02, -3.4467e-02, -3.1303e-02,  1.1651e-02, -3.4813e-02,\n         2.7183e-02,  2.4309e-02,  1.8665e-02,  6.2534e-04,  9.0606e-03,\n        -3.5308e-02, -2.2728e-02, -1.8983e-02,  3.5160e-02, -2.1289e-02,\n        -2.1988e-02,  1.7254e-02, -1.7354e-03,  2.3420e-02, -4.4127e-03,\n         3.9190e-03, -2.4042e-02,  7.6571e-03,  6.9628e-04, -2.9095e-02,\n         2.1106e-02,  2.1909e-02,  2.3410e-02,  2.5742e-02, -1.6423e-02,\n        -3.2847e-03, -3.1259e-02, -3.0432e-02,  3.1054e-02,  1.4152e-03,\n        -3.4291e-02,  1.7246e-03, -1.9351e-02,  3.3954e-02,  3.1933e-02,\n        -2.6495e-02,  3.0583e-02, -2.4544e-02,  1.9957e-02, -2.5228e-02,\n         2.5377e-02,  7.6848e-03, -1.2092e-02, -1.3011e-02, -3.2190e-02,\n        -2.2442e-02, -1.6321e-03, -7.0880e-03,  7.8046e-03, -1.4847e-02,\n        -1.0608e-02, -2.7053e-02, -2.2772e-02], requires_grad=True)\n"
     ]
    }
   ],
   "source": [
    "print(model.fc1.weight)\n",
    "print(model.fc1.bias)"
   ]
  },
  {
   "cell_type": "markdown",
   "metadata": {},
   "source": [
    "For custom initialization, we want to modify these tensors in place. These are actually autograd *Variables*, so we need to get back the actual tensors with `model.fc1.weight.data`. Once we have the tensors, we can fill them with zeros (for biases) or random normal values."
   ]
  },
  {
   "cell_type": "code",
   "execution_count": 15,
   "metadata": {
    "collapsed": true
   },
   "outputs": [
    {
     "output_type": "execute_result",
     "data": {
      "text/plain": [
       "tensor([0., 0., 0., 0., 0., 0., 0., 0., 0., 0., 0., 0., 0., 0., 0., 0., 0., 0., 0., 0., 0., 0., 0., 0.,\n",
       "        0., 0., 0., 0., 0., 0., 0., 0., 0., 0., 0., 0., 0., 0., 0., 0., 0., 0., 0., 0., 0., 0., 0., 0.,\n",
       "        0., 0., 0., 0., 0., 0., 0., 0., 0., 0., 0., 0., 0., 0., 0., 0., 0., 0., 0., 0., 0., 0., 0., 0.,\n",
       "        0., 0., 0., 0., 0., 0., 0., 0., 0., 0., 0., 0., 0., 0., 0., 0., 0., 0., 0., 0., 0., 0., 0., 0.,\n",
       "        0., 0., 0., 0., 0., 0., 0., 0., 0., 0., 0., 0., 0., 0., 0., 0., 0., 0., 0., 0., 0., 0., 0., 0.,\n",
       "        0., 0., 0., 0., 0., 0., 0., 0.])"
      ]
     },
     "metadata": {},
     "execution_count": 15
    }
   ],
   "source": [
    "# Set biases to all zeros\n",
    "model.fc1.bias.data.fill_(0)"
   ]
  },
  {
   "cell_type": "code",
   "execution_count": 16,
   "metadata": {
    "collapsed": true
   },
   "outputs": [
    {
     "output_type": "execute_result",
     "data": {
      "text/plain": [
       "tensor([[ 0.0045, -0.0031,  0.0088,  ...,  0.0208, -0.0078,  0.0031],\n",
       "        [ 0.0110,  0.0051, -0.0114,  ...,  0.0061,  0.0127, -0.0002],\n",
       "        [-0.0124, -0.0003, -0.0187,  ..., -0.0137,  0.0077,  0.0039],\n",
       "        ...,\n",
       "        [-0.0085,  0.0009, -0.0022,  ...,  0.0006,  0.0030,  0.0027],\n",
       "        [-0.0070, -0.0067, -0.0033,  ..., -0.0163,  0.0037,  0.0146],\n",
       "        [ 0.0019, -0.0109, -0.0041,  ..., -0.0058, -0.0208,  0.0020]])"
      ]
     },
     "metadata": {},
     "execution_count": 16
    }
   ],
   "source": [
    "# sample from random normal with standard dev = 0.01\n",
    "model.fc1.weight.data.normal_(std=0.01)"
   ]
  },
  {
   "cell_type": "markdown",
   "metadata": {},
   "source": [
    "### Forward pass\n",
    "\n",
    "Now that we have a network, let's see what happens when we pass in an image."
   ]
  },
  {
   "cell_type": "code",
   "execution_count": 17,
   "metadata": {
    "collapsed": true
   },
   "outputs": [
    {
     "output_type": "display_data",
     "data": {
      "text/plain": "<Figure size 432x648 with 2 Axes>",
      "image/png": "[encoded data removed]"
     },
     "metadata": {
      "image/png": {
       "width": 424,
       "height": 235
      },
      "needs_background": "light"
     }
    }
   ],
   "source": [
    "# Grab some data \n",
    "dataiter = iter(trainloader)\n",
    "images, labels = dataiter.next()\n",
    "\n",
    "# Resize images into a 1D vector, new shape is (batch size, color channels, image pixels) \n",
    "images.resize_(64, 1, 784)\n",
    "# or images.resize_(images.shape[0], 1, 784) to automatically get batch size\n",
    "\n",
    "# Forward pass through the network\n",
    "img_idx = 0\n",
    "ps = model.forward(images[img_idx,:])\n",
    "\n",
    "img = images[img_idx]\n",
    "helper.view_classify(img.view(1, 28, 28), ps)"
   ]
  },
  {
   "cell_type": "markdown",
   "metadata": {},
   "source": [
    "As you can see above, our network has basically no idea what this digit is. It's because we haven't trained it yet, all the weights are random!\n",
    "\n",
    "### Using `nn.Sequential`\n",
    "\n",
    "PyTorch provides a convenient way to build networks like this where a tensor is passed sequentially through operations, `nn.Sequential` ([documentation](https://pytorch.org/docs/master/nn.html#torch.nn.Sequential)). Using this to build the equivalent network:"
   ]
  },
  {
   "cell_type": "code",
   "execution_count": 18,
   "metadata": {
    "collapsed": true
   },
   "outputs": [
    {
     "output_type": "stream",
     "name": "stdout",
     "text": [
      "Sequential(\n  (0): Linear(in_features=784, out_features=128, bias=True)\n  (1): ReLU()\n  (2): Linear(in_features=128, out_features=64, bias=True)\n  (3): ReLU()\n  (4): Linear(in_features=64, out_features=10, bias=True)\n  (5): Softmax(dim=1)\n)\n"
     ]
    },
    {
     "output_type": "display_data",
     "data": {
      "text/plain": "<Figure size 432x648 with 2 Axes>",
      "image/png": "[encoded data removed]"
     },
     "metadata": {
      "image/png": {
       "width": 424,
       "height": 235
      },
      "needs_background": "light"
     }
    }
   ],
   "source": [
    "# Hyperparameters for our network\n",
    "input_size = 784\n",
    "hidden_sizes = [128, 64]\n",
    "output_size = 10\n",
    "\n",
    "# Build a feed-forward network\n",
    "model = nn.Sequential(nn.Linear(input_size, hidden_sizes[0]),\n",
    "                      nn.ReLU(),\n",
    "                      nn.Linear(hidden_sizes[0], hidden_sizes[1]),\n",
    "                      nn.ReLU(),\n",
    "                      nn.Linear(hidden_sizes[1], output_size),\n",
    "                      nn.Softmax(dim=1))\n",
    "print(model)\n",
    "\n",
    "# Forward pass through the network and display output\n",
    "images, labels = next(iter(trainloader))\n",
    "images.resize_(images.shape[0], 1, 784)\n",
    "ps = model.forward(images[0,:])\n",
    "helper.view_classify(images[0].view(1, 28, 28), ps)"
   ]
  },
  {
   "cell_type": "markdown",
   "metadata": {},
   "source": [
    "Here our model is the same as before: 784 input units, a hidden layer with 128 units, ReLU activation, 64 unit hidden layer, another ReLU, then the output layer with 10 units, and the softmax output.\n",
    "\n",
    "The operations are available by passing in the appropriate index. For example, if you want to get first Linear operation and look at the weights, you'd use `model[0]`."
   ]
  },
  {
   "cell_type": "code",
   "execution_count": 19,
   "metadata": {
    "collapsed": true
   },
   "outputs": [
    {
     "output_type": "stream",
     "name": "stdout",
     "text": [
      "Linear(in_features=784, out_features=128, bias=True)\n"
     ]
    },
    {
     "output_type": "execute_result",
     "data": {
      "text/plain": [
       "Parameter containing:\n",
       "tensor([[-0.0047,  0.0250,  0.0029,  ..., -0.0143,  0.0090,  0.0352],\n",
       "        [ 0.0238,  0.0261,  0.0228,  ..., -0.0323, -0.0150,  0.0099],\n",
       "        [-0.0175, -0.0064,  0.0012,  ..., -0.0254,  0.0145, -0.0283],\n",
       "        ...,\n",
       "        [ 0.0300,  0.0310, -0.0092,  ...,  0.0185,  0.0285, -0.0098],\n",
       "        [ 0.0092, -0.0024, -0.0335,  ..., -0.0202, -0.0077,  0.0353],\n",
       "        [ 0.0338, -0.0060,  0.0062,  ...,  0.0135, -0.0217, -0.0233]],\n",
       "       requires_grad=True)"
      ]
     },
     "metadata": {},
     "execution_count": 19
    }
   ],
   "source": [
    "print(model[0])\n",
    "model[0].weight"
   ]
  },
  {
   "cell_type": "markdown",
   "metadata": {},
   "source": [
    "You can also pass in an `OrderedDict` to name the individual layers and operations, instead of using incremental integers. Note that dictionary keys must be unique, so _each operation must have a different name_."
   ]
  },
  {
   "cell_type": "code",
   "execution_count": 20,
   "metadata": {
    "collapsed": true
   },
   "outputs": [
    {
     "output_type": "execute_result",
     "data": {
      "text/plain": [
       "Sequential(\n",
       "  (fc1): Linear(in_features=784, out_features=128, bias=True)\n",
       "  (relu1): ReLU()\n",
       "  (fc2): Linear(in_features=128, out_features=64, bias=True)\n",
       "  (relu2): ReLU()\n",
       "  (output): Linear(in_features=64, out_features=10, bias=True)\n",
       "  (softmax): Softmax(dim=1)\n",
       ")"
      ]
     },
     "metadata": {},
     "execution_count": 20
    }
   ],
   "source": [
    "from collections import OrderedDict\n",
    "model = nn.Sequential(OrderedDict([\n",
    "                      ('fc1', nn.Linear(input_size, hidden_sizes[0])),\n",
    "                      ('relu1', nn.ReLU()),\n",
    "                      ('fc2', nn.Linear(hidden_sizes[0], hidden_sizes[1])),\n",
    "                      ('relu2', nn.ReLU()),\n",
    "                      ('output', nn.Linear(hidden_sizes[1], output_size)),\n",
    "                      ('softmax', nn.Softmax(dim=1))]))\n",
    "model"
   ]
  },
  {
   "cell_type": "markdown",
   "metadata": {},
   "source": [
    "Now you can access layers either by integer or the name"
   ]
  },
  {
   "cell_type": "code",
   "execution_count": 21,
   "metadata": {
    "collapsed": true
   },
   "outputs": [
    {
     "output_type": "stream",
     "name": "stdout",
     "text": [
      "Linear(in_features=784, out_features=128, bias=True)\nLinear(in_features=784, out_features=128, bias=True)\n"
     ]
    }
   ],
   "source": [
    "print(model[0])\n",
    "print(model.fc1)"
   ]
  },
  {
   "cell_type": "markdown",
   "metadata": {},
   "source": [
    "In the next notebook, we'll see how we can train a neural network to accuractly predict the numbers appearing in the MNIST images."
   ]
  }
 ],
 "metadata": {
  "kernelspec": {
   "name": "python3",
   "display_name": "Python 3.7.9 64-bit ('ai-for-trading': conda)",
   "metadata": {
    "interpreter": {
     "hash": "6b66a0bde1304a4a4d723bee7104971889284279ff5b602498f84e727a776ee4"
    }
   }
  },
  "language_info": {
   "codemirror_mode": {
    "name": "ipython",
    "version": 3
   },
   "file_extension": ".py",
   "mimetype": "text/x-python",
   "name": "python",
   "nbconvert_exporter": "python",
   "pygments_lexer": "ipython3",
   "version": "3.7.9-final"
  }
 },
 "nbformat": 4,
 "nbformat_minor": 2
}