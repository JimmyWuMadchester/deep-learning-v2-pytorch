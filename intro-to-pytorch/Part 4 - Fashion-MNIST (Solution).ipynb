{
 "cells": [
  {
   "cell_type": "markdown",
   "metadata": {},
   "source": [
    "# Classifying Fashion-MNIST\n",
    "\n",
    "Now it's your turn to build and train a neural network. You'll be using the [Fashion-MNIST dataset](https://github.com/zalandoresearch/fashion-mnist), a drop-in replacement for the MNIST dataset. MNIST is actually quite trivial with neural networks where you can easily achieve better than 97% accuracy. Fashion-MNIST is a set of 28x28 greyscale images of clothes. It's more complex than MNIST, so it's a better representation of the actual performance of your network, and a better representation of datasets you'll use in the real world.\n",
    "\n",
    "<img src='assets/fashion-mnist-sprite.png' width=500px>\n",
    "\n",
    "In this notebook, you'll build your own neural network. For the most part, you could just copy and paste the code from Part 3, but you wouldn't be learning. It's important for you to write the code yourself and get it to work. Feel free to consult the previous notebooks though as you work through this.\n",
    "\n",
    "First off, let's load the dataset through torchvision."
   ]
  },
  {
   "cell_type": "code",
   "execution_count": 1,
   "metadata": {},
   "outputs": [
    {
     "output_type": "stream",
     "name": "stderr",
     "text": [
      "0.2%Downloading http://fashion-mnist.s3-website.eu-central-1.amazonaws.com/train-images-idx3-ubyte.gz to C:\\Users\\Jimmy/.pytorch/F_MNIST_data/FashionMNIST\\raw\\train-images-idx3-ubyte.gz\n",
      "100.0%Extracting C:\\Users\\Jimmy/.pytorch/F_MNIST_data/FashionMNIST\\raw\\train-images-idx3-ubyte.gz to C:\\Users\\Jimmy/.pytorch/F_MNIST_data/FashionMNIST\\raw\n",
      "111.0%Downloading http://fashion-mnist.s3-website.eu-central-1.amazonaws.com/train-labels-idx1-ubyte.gz to C:\\Users\\Jimmy/.pytorch/F_MNIST_data/FashionMNIST\\raw\\train-labels-idx1-ubyte.gz\n",
      "Extracting C:\\Users\\Jimmy/.pytorch/F_MNIST_data/FashionMNIST\\raw\\train-labels-idx1-ubyte.gz to C:\\Users\\Jimmy/.pytorch/F_MNIST_data/FashionMNIST\\raw\n",
      "Downloading http://fashion-mnist.s3-website.eu-central-1.amazonaws.com/t10k-images-idx3-ubyte.gz to C:\\Users\\Jimmy/.pytorch/F_MNIST_data/FashionMNIST\\raw\\t10k-images-idx3-ubyte.gz\n",
      "159.1%Extracting C:\\Users\\Jimmy/.pytorch/F_MNIST_data/FashionMNIST\\raw\\t10k-images-idx3-ubyte.gz to C:\\Users\\Jimmy/.pytorch/F_MNIST_data/FashionMNIST\\raw\n",
      "Downloading http://fashion-mnist.s3-website.eu-central-1.amazonaws.com/t10k-labels-idx1-ubyte.gz to C:\\Users\\Jimmy/.pytorch/F_MNIST_data/FashionMNIST\\raw\\t10k-labels-idx1-ubyte.gz\n",
      "Extracting C:\\Users\\Jimmy/.pytorch/F_MNIST_data/FashionMNIST\\raw\\t10k-labels-idx1-ubyte.gz to C:\\Users\\Jimmy/.pytorch/F_MNIST_data/FashionMNIST\\raw\n",
      "Processing...\n",
      "Done!\n"
     ]
    }
   ],
   "source": [
    "import torch\n",
    "from torchvision import datasets, transforms\n",
    "import helper\n",
    "\n",
    "# Define a transform to normalize the data\n",
    "transform = transforms.Compose([transforms.ToTensor(),\n",
    "                                transforms.Normalize((0.5,), (0.5,))])\n",
    "# Download and load the training data\n",
    "trainset = datasets.FashionMNIST('~/.pytorch/F_MNIST_data/', download=True, train=True, transform=transform)\n",
    "trainloader = torch.utils.data.DataLoader(trainset, batch_size=64, shuffle=True)\n",
    "\n",
    "# Download and load the test data\n",
    "testset = datasets.FashionMNIST('~/.pytorch/F_MNIST_data/', download=True, train=False, transform=transform)\n",
    "testloader = torch.utils.data.DataLoader(testset, batch_size=64, shuffle=True)"
   ]
  },
  {
   "cell_type": "markdown",
   "metadata": {},
   "source": [
    "Here we can see one of the images."
   ]
  },
  {
   "cell_type": "code",
   "execution_count": 2,
   "metadata": {},
   "outputs": [
    {
     "output_type": "display_data",
     "data": {
      "text/plain": "<Figure size 432x288 with 1 Axes>",
      "image/svg+xml": "<?xml version=\"1.0\" encoding=\"utf-8\" standalone=\"no\"?>\r\n<!DOCTYPE svg PUBLIC \"-//W3C//DTD SVG 1.1//EN\"\r\n  \"http://www.w3.org/Graphics/SVG/1.1/DTD/svg11.dtd\">\r\n<!-- Created with matplotlib (https://matplotlib.org/) -->\r\n<svg height=\"231.84pt\" version=\"1.1\" viewBox=\"0 0 231.84 231.84\" width=\"231.84pt\" xmlns=\"http://www.w3.org/2000/svg\" xmlns:xlink=\"http://www.w3.org/1999/xlink\">\r\n <metadata>\r\n  <rdf:RDF xmlns:cc=\"http://creativecommons.org/ns#\" xmlns:dc=\"http://purl.org/dc/elements/1.1/\" xmlns:rdf=\"http://www.w3.org/1999/02/22-rdf-syntax-ns#\">\r\n   <cc:Work>\r\n    <dc:type rdf:resource=\"http://purl.org/dc/dcmitype/StillImage\"/>\r\n    <dc:date>2021-02-09T20:43:21.817381</dc:date>\r\n    <dc:format>image/svg+xml</dc:format>\r\n    <dc:creator>\r\n     <cc:Agent>\r\n      <dc:title>Matplotlib v3.3.2, https://matplotlib.org/</dc:title>\r\n     </cc:Agent>\r\n    </dc:creator>\r\n   </cc:Work>\r\n  </rdf:RDF>\r\n </metadata>\r\n <defs>\r\n  <style type=\"text/css\">*{stroke-linecap:butt;stroke-linejoin:round;}</style>\r\n </defs>\r\n <g id=\"figure_1\">\r\n  <g id=\"patch_1\">\r\n   <path d=\"M 0 231.84 \r\nL 231.84 231.84 \r\nL 231.84 0 \r\nL 0 0 \r\nz\r\n\" style=\"fill:none;\"/>\r\n  </g>\r\n  <g id=\"axes_1\">\r\n   <g id=\"patch_2\">\r\n    <path d=\"M 7.2 224.64 \r\nL 224.64 224.64 \r\nL 224.64 7.2 \r\nL 7.2 7.2 \r\nz\r\n\" style=\"fill:#ffffff;\"/>\r\n   </g>\r\n   <g clip-path=\"url(#pfb1be01ec3)\">\r\n    <image height=\"218\" id=\"image79c81b55a5\" transform=\"scale(1 -1)translate(0 -218)\" width=\"218\" x=\"7.2\" xlink:href=\"data:image/png;base64,\r\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\" y=\"-6.64\"/>\r\n   </g>\r\n   <g id=\"matplotlib.axis_1\">\r\n    <g id=\"xtick_1\">\r\n     <g id=\"line2d_1\"/>\r\n    </g>\r\n    <g id=\"xtick_2\">\r\n     <g id=\"line2d_2\"/>\r\n    </g>\r\n    <g id=\"xtick_3\">\r\n     <g id=\"line2d_3\"/>\r\n    </g>\r\n    <g id=\"xtick_4\">\r\n     <g id=\"line2d_4\"/>\r\n    </g>\r\n    <g id=\"xtick_5\">\r\n     <g id=\"line2d_5\"/>\r\n    </g>\r\n    <g id=\"xtick_6\">\r\n     <g id=\"line2d_6\"/>\r\n    </g>\r\n   </g>\r\n   <g id=\"matplotlib.axis_2\">\r\n    <g id=\"ytick_1\">\r\n     <g id=\"line2d_7\"/>\r\n    </g>\r\n    <g id=\"ytick_2\">\r\n     <g id=\"line2d_8\"/>\r\n    </g>\r\n    <g id=\"ytick_3\">\r\n     <g id=\"line2d_9\"/>\r\n    </g>\r\n    <g id=\"ytick_4\">\r\n     <g id=\"line2d_10\"/>\r\n    </g>\r\n    <g id=\"ytick_5\">\r\n     <g id=\"line2d_11\"/>\r\n    </g>\r\n    <g id=\"ytick_6\">\r\n     <g id=\"line2d_12\"/>\r\n    </g>\r\n   </g>\r\n  </g>\r\n </g>\r\n <defs>\r\n  <clipPath id=\"pfb1be01ec3\">\r\n   <rect height=\"217.44\" width=\"217.44\" x=\"7.2\" y=\"7.2\"/>\r\n  </clipPath>\r\n </defs>\r\n</svg>\r\n",
      "image/png": "[encoded data removed]"
     },
     "metadata": {
      "needs_background": "light"
     }
    }
   ],
   "source": [
    "image, label = next(iter(trainloader))\n",
    "helper.imshow(image[0,:]);"
   ]
  },
  {
   "cell_type": "markdown",
   "metadata": {},
   "source": [
    "## Building the network\n",
    "\n",
    "Here you should define your network. As with MNIST, each image is 28x28 which is a total of 784 pixels, and there are 10 classes. You should include at least one hidden layer. We suggest you use ReLU activations for the layers and to return the logits or log-softmax from the forward pass. It's up to you how many layers you add and the size of those layers."
   ]
  },
  {
   "cell_type": "code",
   "execution_count": 3,
   "metadata": {},
   "outputs": [],
   "source": [
    "from torch import nn, optim\n",
    "import torch.nn.functional as F"
   ]
  },
  {
   "cell_type": "code",
   "execution_count": 4,
   "metadata": {},
   "outputs": [],
   "source": [
    "# TODO: Define your network architecture here\n",
    "class Classifier(nn.Module):\n",
    "    def __init__(self):\n",
    "        super().__init__()\n",
    "        self.fc1 = nn.Linear(784, 256)\n",
    "        self.fc2 = nn.Linear(256, 128)\n",
    "        self.fc3 = nn.Linear(128, 64)\n",
    "        self.fc4 = nn.Linear(64, 10)\n",
    "        \n",
    "    def forward(self, x):\n",
    "        # make sure input tensor is flattened\n",
    "        x = x.view(x.shape[0], -1)\n",
    "        \n",
    "        x = F.relu(self.fc1(x))\n",
    "        x = F.relu(self.fc2(x))\n",
    "        x = F.relu(self.fc3(x))\n",
    "        x = F.log_softmax(self.fc4(x), dim=1)\n",
    "        \n",
    "        return x"
   ]
  },
  {
   "cell_type": "markdown",
   "metadata": {},
   "source": [
    "# Train the network\n",
    "\n",
    "Now you should create your network and train it. First you'll want to define [the criterion](http://pytorch.org/docs/master/nn.html#loss-functions) (something like `nn.CrossEntropyLoss` or `nn.NLLLoss`) and [the optimizer](http://pytorch.org/docs/master/optim.html) (typically `optim.SGD` or `optim.Adam`).\n",
    "\n",
    "Then write the training code. Remember the training pass is a fairly straightforward process:\n",
    "\n",
    "* Make a forward pass through the network to get the logits \n",
    "* Use the logits to calculate the loss\n",
    "* Perform a backward pass through the network with `loss.backward()` to calculate the gradients\n",
    "* Take a step with the optimizer to update the weights\n",
    "\n",
    "By adjusting the hyperparameters (hidden units, learning rate, etc), you should be able to get the training loss below 0.4."
   ]
  },
  {
   "cell_type": "code",
   "execution_count": 7,
   "metadata": {},
   "outputs": [],
   "source": [
    "# TODO: Create the network, define the criterion and optimizer\n",
    "model = Classifier()\n",
    "criterion = nn.NLLLoss()\n",
    "optimizer = optim.Adam(model.parameters(), lr=0.003)"
   ]
  },
  {
   "cell_type": "code",
   "execution_count": 9,
   "metadata": {},
   "outputs": [
    {
     "output_type": "stream",
     "name": "stdout",
     "text": [
      "Training loss: 0.5183030994557368 [Time elapsed: 11.776504755020142 secs]\n",
      "Training loss: 0.3970033723725947 [Time elapsed: 12.345014572143555 secs]\n",
      "Training loss: 0.36024289165160805 [Time elapsed: 12.695048093795776 secs]\n",
      "Training loss: 0.3313182584131196 [Time elapsed: 12.47860074043274 secs]\n",
      "Training loss: 0.3164141334132599 [Time elapsed: 12.406821966171265 secs]\n"
     ]
    }
   ],
   "source": [
    "import time\n",
    "\n",
    "# TODO: Train the network here\n",
    "epochs = 5\n",
    "\n",
    "now = time.time()\n",
    "for e in range(epochs):\n",
    "    running_loss = 0\n",
    "    for images, labels in trainloader:\n",
    "        log_ps = model(images)\n",
    "        loss = criterion(log_ps, labels)\n",
    "        \n",
    "        optimizer.zero_grad()\n",
    "        loss.backward()\n",
    "        optimizer.step()\n",
    "        \n",
    "        running_loss += loss.item()\n",
    "    else:\n",
    "        now, then = time.time(), now\n",
    "        print(f\"Training loss: {running_loss/len(trainloader)} [Time elapsed: {now-then} secs]\")"
   ]
  },
  {
   "cell_type": "code",
   "execution_count": 20,
   "metadata": {},
   "outputs": [
    {
     "data": {
      "image/png": "[encoded data removed]",
      "text/plain": [
       "<Figure size 432x648 with 2 Axes>"
      ]
     },
     "metadata": {
      "image/png": {
       "height": 204,
       "width": 423
      }
     },
     "output_type": "display_data"
    }
   ],
   "source": [
    "%matplotlib inline\n",
    "%config InlineBackend.figure_format = 'retina'\n",
    "\n",
    "import helper\n",
    "\n",
    "# Test out your network!\n",
    "\n",
    "dataiter = iter(testloader)\n",
    "images, labels = dataiter.next()\n",
    "img = images[1]\n",
    "\n",
    "# TODO: Calculate the class probabilities (softmax) for img\n",
    "ps = torch.exp(model(img))\n",
    "\n",
    "# Plot the image and probabilities\n",
    "helper.view_classify(img, ps, version='Fashion')"
   ]
  }
 ],
 "metadata": {
  "kernelspec": {
   "display_name": "Python 3",
   "language": "python",
   "name": "python3"
  },
  "language_info": {
   "codemirror_mode": {
    "name": "ipython",
    "version": 3
   },
   "file_extension": ".py",
   "mimetype": "text/x-python",
   "name": "python",
   "nbconvert_exporter": "python",
   "pygments_lexer": "ipython3",
   "version": "3.7.9-final"
  }
 },
 "nbformat": 4,
 "nbformat_minor": 2
}