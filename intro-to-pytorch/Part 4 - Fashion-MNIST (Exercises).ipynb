{
 "cells": [
  {
   "cell_type": "markdown",
   "metadata": {},
   "source": [
    "# Classifying Fashion-MNIST\n",
    "\n",
    "Now it's your turn to build and train a neural network. You'll be using the [Fashion-MNIST dataset](https://github.com/zalandoresearch/fashion-mnist), a drop-in replacement for the MNIST dataset. MNIST is actually quite trivial with neural networks where you can easily achieve better than 97% accuracy. Fashion-MNIST is a set of 28x28 greyscale images of clothes. It's more complex than MNIST, so it's a better representation of the actual performance of your network, and a better representation of datasets you'll use in the real world.\n",
    "\n",
    "<img src='assets/fashion-mnist-sprite.png' width=500px>\n",
    "\n",
    "In this notebook, you'll build your own neural network. For the most part, you could just copy and paste the code from Part 3, but you wouldn't be learning. It's important for you to write the code yourself and get it to work. Feel free to consult the previous notebooks though as you work through this.\n",
    "\n",
    "First off, let's load the dataset through torchvision."
   ]
  },
  {
   "cell_type": "code",
   "execution_count": 1,
   "metadata": {},
   "outputs": [],
   "source": [
    "import torch\n",
    "from torchvision import datasets, transforms\n",
    "import helper\n",
    "\n",
    "# Define a transform to normalize the data\n",
    "transform = transforms.Compose([transforms.ToTensor(),\n",
    "                                transforms.Normalize((0.5,), (0.5,))])\n",
    "# Download and load the training data\n",
    "trainset = datasets.FashionMNIST('~/.pytorch/F_MNIST_data/', download=True, train=True, transform=transform)\n",
    "trainloader = torch.utils.data.DataLoader(trainset, batch_size=64, shuffle=True)\n",
    "\n",
    "# Download and load the test data\n",
    "testset = datasets.FashionMNIST('~/.pytorch/F_MNIST_data/', download=True, train=False, transform=transform)\n",
    "testloader = torch.utils.data.DataLoader(testset, batch_size=64, shuffle=True)"
   ]
  },
  {
   "cell_type": "markdown",
   "metadata": {},
   "source": [
    "Here we can see one of the images."
   ]
  },
  {
   "cell_type": "code",
   "execution_count": 2,
   "metadata": {},
   "outputs": [
    {
     "output_type": "display_data",
     "data": {
      "text/plain": "<Figure size 432x288 with 1 Axes>",
      "image/svg+xml": "<?xml version=\"1.0\" encoding=\"utf-8\" standalone=\"no\"?>\r\n<!DOCTYPE svg PUBLIC \"-//W3C//DTD SVG 1.1//EN\"\r\n  \"http://www.w3.org/Graphics/SVG/1.1/DTD/svg11.dtd\">\r\n<!-- Created with matplotlib (https://matplotlib.org/) -->\r\n<svg height=\"231.84pt\" version=\"1.1\" viewBox=\"0 0 231.84 231.84\" width=\"231.84pt\" xmlns=\"http://www.w3.org/2000/svg\" xmlns:xlink=\"http://www.w3.org/1999/xlink\">\r\n <metadata>\r\n  <rdf:RDF xmlns:cc=\"http://creativecommons.org/ns#\" xmlns:dc=\"http://purl.org/dc/elements/1.1/\" xmlns:rdf=\"http://www.w3.org/1999/02/22-rdf-syntax-ns#\">\r\n   <cc:Work>\r\n    <dc:type rdf:resource=\"http://purl.org/dc/dcmitype/StillImage\"/>\r\n    <dc:date>2021-02-09T20:43:45.471224</dc:date>\r\n    <dc:format>image/svg+xml</dc:format>\r\n    <dc:creator>\r\n     <cc:Agent>\r\n      <dc:title>Matplotlib v3.3.2, https://matplotlib.org/</dc:title>\r\n     </cc:Agent>\r\n    </dc:creator>\r\n   </cc:Work>\r\n  </rdf:RDF>\r\n </metadata>\r\n <defs>\r\n  <style type=\"text/css\">*{stroke-linecap:butt;stroke-linejoin:round;}</style>\r\n </defs>\r\n <g id=\"figure_1\">\r\n  <g id=\"patch_1\">\r\n   <path d=\"M 0 231.84 \r\nL 231.84 231.84 \r\nL 231.84 0 \r\nL 0 0 \r\nz\r\n\" style=\"fill:none;\"/>\r\n  </g>\r\n  <g id=\"axes_1\">\r\n   <g id=\"patch_2\">\r\n    <path d=\"M 7.2 224.64 \r\nL 224.64 224.64 \r\nL 224.64 7.2 \r\nL 7.2 7.2 \r\nz\r\n\" style=\"fill:#ffffff;\"/>\r\n   </g>\r\n   <g clip-path=\"url(#p3357195da7)\">\r\n    <image height=\"218\" id=\"imagead47f50c8f\" transform=\"scale(1 -1)translate(0 -218)\" width=\"218\" x=\"7.2\" xlink:href=\"data:image/png;base64,\r\niVBORw0KGgoAAAANSUhEUgAAANoAAADaCAYAAADAHVzbAAAKOklEQVR4nO3dW29c1RnG8eU5+BTGGScmB0EVlIAhR4Rakki0lbhE/QCoF0j9PpX4BlWrii/Qpmp7W0GISCAglTa5KQGTo01sJ86cPAf3rnf7fexZ2c+k4f+7fbP23h77yZbm1bvW1LvvnNtJAEpVmfQDAD8GBA0wIGiAAUEDDAgaYEDQAAOCBhjUyrz44UOHwvrbP3s7rN+7dy+sf/Hl9T0/027Nzc2F9crUVFifnS1e/3D9Ybh2Slx7Zyev9dlsNgtrrVYrXFupxP8393q9cR5pVy6evxDWT58+FdY/vXIlrN+4eXPPz7RbvNEAA4IGGBA0wICgAQYEDTAgaIABQQMMSu2jvb68HNZPvvF6Vj2nj/br998P6y+/9NLY11Z+++GHYf3EiRNh/d7du2F9OBqF9d988EFhrV6vh2uV9fWNsP67P/x+7GtfvHA+rKtnf1V8rvTRgP9zBA0wIGiAAUEDDAgaYEDQAINSv95vtztlXj7L0aNHw3pvezusqzGZ6199tddH+p/RcBjW+4NBWN8Wz377zp3C2uFDh8O1akDnwIFF8S/GNxjEn4v6en/thx+e5uPsCW80wICgAQYEDTAgaIABQQMMCBpgQNAAg1L7aNG2ZinpcY6q2NqsWq0W1tSWbFevXQvrn1y+HNbVdnTRlnFLS0vh2n6/H9aHos+2b9++sP6nS5fGvrdy6MUXs9ZH5uZmw/q2ePaZmZmn+Th7whsNMCBogAFBAwwIGmBA0AADggYYEDTAoNQ+2kDMTak+mfLKsWPF9xa9pna7HdZnZ+OejTpaKZqNUvNm1Wr8a4n6h7sxlYqfvVaL761+p6tra2M9U0opHThwYOy1KaVUr8XzaDuib1sm3miAAUEDDAgaYEDQAAOCBhgQNMCAoAEGpfbR+oO82Sbl4MGDhbXV1dVwreqDqZkuNbc1Cno2NdEnU7snDkUvS+05OT9fPEun97OM/2+enY1nvh5vbRXWor5oSimNxIyh+rnbncntM8obDTAgaIABQQMMCBpgQNAAA4IGGBA0wKDUPlqv2yvz8mlhYaGwtrX1JFyr5qp6PfHsoqcT9XwGlfjeat9GtR/m/vn5sB7tf6jOVlNnkKk5wEij0Qjrqk8mfiWpQx8NeL4RNMCAoAEGBA0wIGiAAUEDDEr9er/b65Z5+bTYXCysra7G2561Wq2wrr5ir4tt2dQoS869FdW66HaLfy/q51LjRereEXXk03Aojvmqxu+NaHSpbLzRAAOCBhgQNMCAoAEGBA0wIGiAAUEDDErto+X2LdT2YgeDY35GI3FsU+7IhBzZKH72eOVubh1fIRqDSSmlWnDs05Q4SksdOZXTP2zub8bXlsddxc/+6NGjvT7SU8MbDTAgaIABQQMMCBpgQNAAA4IGGBA0wKDcY5v64/dUUtKzTXPB8UOzM7Ph2vm54rUppfTg/v2wHvWiUkrh3mdqWzRRDnt0KaVUFc8W9brUZ656o2orvEizuT+st1rtsF4Ts3T9jB5fLt5ogAFBAwwIGmBA0AADggYYEDTAgKABBuXu69jNm/mS/aJKcb9oemY6XKtmutRcVk6/aLQTr93JnONTn1v07GptRX0umXtShvcW82bqd9ppx324MvFGAwwIGmBA0AADggYYEDTAgKABBqV+vb+9vZ13ATEvEn2bq0YmNjY3w/r0dNweUNuuqfZAmdQoS/TsFTFiM5W5Wd78/PzYa0ej+A9CfLufnoijusrEGw0wIGiAAUEDDAgaYEDQAAOCBhgQNMCg5DGZXpmXDy02m2F9Y2MjrM/MzMQ3EE2bSlBXW7qpY5cU1UeLemWqT7YjN8OLnXrj5NhrVZ9MbeM3SbzRAAOCBhgQNMCAoAEGBA0wIGiAAUEDDErto7XaefM/auuzTqdbWGs0FsK1uduiqW3XwqaP+LnUxJfaVk2JemXDUfy5RFv87caZM2fGXqt6fKp/OEm80QADggYYEDTAgKABBgQNMCBogAFBAwxK7aOpuStF7Qs5Nz9XWNsU+zYqNbG/4UDt65h1d3GkVNbqeLtM1aOr1kQfTYzStYK9FRcXm/GlB/HF1bFOk/TsPhnwHCFogAFBAwwIGmBA0AADggYYEDTAoNQ+WjbREIrmk+4/uJ9166roow0zZp/UnN1IzISpDQ7V2Ww7wbNP1/POhVMePX5UWPtJejlc2xf7XfZ6k9tHVOGNBhgQNMCAoAEGBA0wIGiAAUEDDCb69f5oFH/NXavFjxdtjba+vp51bXUCkBonib5Cr6qv38W9VXtA1aMnl9cOq1p0XNZgGI9Vqc+83W6P9UwOvNEAA4IGGBA0wICgAQYEDTAgaIABQQMMJtpH623HYw3qiKCZ6eKRjrW1tXBtvV7PuvcwxT2fYdCPqoh+UO42fTk6nU6p13/w4EFhrTIV/7+vjm1qt8t99hy80QADggYYEDTAgKABBgQNMCBogAFBAwwm20cT24PNz82H9e3t4u3Htp48Cdc2XnghrKsjgtSxTdFcl1ort5MTdXXcVfRsR48cEWvDstzmb+X77wtr9Xr851gT9W6XPhrwo0bQAAOCBhgQNMCAoAEGBA0wIGiAwUT7aJubm2G90WhkrY+o/Qt73W7W+qgu911Ue0Zm7uu4/NprhbU3z70prh0fV3X188/D+srKSmHt3v24B7d0cCmst0uepcvBGw0wIGiAAUEDDAgaYEDQAAOCBhgQNMBgon20h+IMs1eOHQvrW1tbY99b7Z1Ydi8rUhHnp+Xu+3jm9JnC2sZG/DtpNBbCel/MwkW6onc5FHN8rVZr7HuXjTcaYEDQAAOCBhgQNMCAoAEGBA0wmOjX+7du3QrrP33rrbAeHQGUS32VrL7+j6iv79W1c1sPf/7LpcLaxfMXwrU3bl4N62rUJaKeW31ut2/fHvveZeONBhgQNMCAoAEGBA0wIGiAAUEDDAgaYDDZPtq334b1fj8+OulJzlhE7hjMKN52LVqtfq6yRWM2n3x6OevatVr8JxXdOzqGK6WUpqfrYV2NXU0SbzTAgKABBgQNMCBogAFBAwwIGmBA0ACDifbRlH98/HFY/88334x97dzt5kaijzYK+nCvnjgRrl1eXg7rg3787Ftbj8P6lc8+C+uRarUa1tXnEvnn11+H9S++vD72tSeNNxpgQNAAA4IGGBA0wICgAQYEDTAgaIDB1LvvnBv/fKFnmJqLqol+0JTYQ7DT6YT1UydPFtZ++fNfhGu/W/kurC8tLYX1I4cPh/V//ftGYe2vf/9buFZ9rmqOT+2X+bzijQYYEDTAgKABBgQNMCBogAFBAwye6TEZdUxPNJKhxmBUPdev3ntv7LULCwthvVrN+7WdPlXcelBf75f5ueUchZWSbi1MEm80wICgAQYEDTAgaIABQQMMCBpgQNAAg2e6j5azddmk/fGjjwprZ8+eDdfeuXM3rO/sxJ/L8ePHw/q1a9fC+qQ8y32wXLzRAAOCBhgQNMCAoAEGBA0wIGiAAUEDDP4LTfXhgaaozi4AAAAASUVORK5CYII=\" y=\"-6.64\"/>\r\n   </g>\r\n   <g id=\"matplotlib.axis_1\">\r\n    <g id=\"xtick_1\">\r\n     <g id=\"line2d_1\"/>\r\n    </g>\r\n    <g id=\"xtick_2\">\r\n     <g id=\"line2d_2\"/>\r\n    </g>\r\n    <g id=\"xtick_3\">\r\n     <g id=\"line2d_3\"/>\r\n    </g>\r\n    <g id=\"xtick_4\">\r\n     <g id=\"line2d_4\"/>\r\n    </g>\r\n    <g id=\"xtick_5\">\r\n     <g id=\"line2d_5\"/>\r\n    </g>\r\n    <g id=\"xtick_6\">\r\n     <g id=\"line2d_6\"/>\r\n    </g>\r\n   </g>\r\n   <g id=\"matplotlib.axis_2\">\r\n    <g id=\"ytick_1\">\r\n     <g id=\"line2d_7\"/>\r\n    </g>\r\n    <g id=\"ytick_2\">\r\n     <g id=\"line2d_8\"/>\r\n    </g>\r\n    <g id=\"ytick_3\">\r\n     <g id=\"line2d_9\"/>\r\n    </g>\r\n    <g id=\"ytick_4\">\r\n     <g id=\"line2d_10\"/>\r\n    </g>\r\n    <g id=\"ytick_5\">\r\n     <g id=\"line2d_11\"/>\r\n    </g>\r\n    <g id=\"ytick_6\">\r\n     <g id=\"line2d_12\"/>\r\n    </g>\r\n   </g>\r\n  </g>\r\n </g>\r\n <defs>\r\n  <clipPath id=\"p3357195da7\">\r\n   <rect height=\"217.44\" width=\"217.44\" x=\"7.2\" y=\"7.2\"/>\r\n  </clipPath>\r\n </defs>\r\n</svg>\r\n",
      "image/png": "[encoded data removed]"
     },
     "metadata": {
      "needs_background": "light"
     }
    }
   ],
   "source": [
    "image, label = next(iter(trainloader))\n",
    "helper.imshow(image[0,:]);"
   ]
  },
  {
   "source": [
    "## Checck cuda capability\n"
   ],
   "cell_type": "markdown",
   "metadata": {}
  },
  {
   "cell_type": "code",
   "execution_count": 6,
   "metadata": {},
   "outputs": [
    {
     "output_type": "stream",
     "name": "stdout",
     "text": [
      "__CUDA Available: True\n__CUDNN VERSION: 8004\n__Number CUDA Devices: 1\n"
     ]
    }
   ],
   "source": [
    "print('__CUDA Available:', torch.cuda.is_available())\n",
    "print('__CUDNN VERSION:', torch.backends.cudnn.version())\n",
    "print('__Number CUDA Devices:', torch.cuda.device_count())"
   ]
  },
  {
   "cell_type": "markdown",
   "metadata": {},
   "source": [
    "## Building the network\n",
    "\n",
    "Here you should define your network. As with MNIST, each image is 28x28 which is a total of 784 pixels, and there are 10 classes. You should include at least one hidden layer. We suggest you use ReLU activations for the layers and to return the logits or log-softmax from the forward pass. It's up to you how many layers you add and the size of those layers."
   ]
  },
  {
   "cell_type": "code",
   "execution_count": 35,
   "metadata": {},
   "outputs": [],
   "source": [
    "from torch import nn, optim\n",
    "import torch.nn.functional as F\n",
    "\n",
    "# TODO: Define your network architecture here\n",
    "class Classifier(nn.Module):\n",
    "    def __init__(self):\n",
    "        super().__init__()\n",
    "        self.fc1 = nn.Linear(784, 256)\n",
    "        self.fc2 = nn.Linear(256, 128)\n",
    "        self.fc3 = nn.Linear(128, 64)\n",
    "        self.fc4 = nn.Linear(64, 10)\n",
    "\n",
    "    def forward(self, x):\n",
    "        x = x.view(x.shape[0], -1)\n",
    "\n",
    "        x = F.relu(self.fc1(x))\n",
    "        x = F.relu(self.fc2(x))\n",
    "        x = F.relu(self.fc3(x))\n",
    "        x = F.log_softmax(self.fc4(x), dim=1)\n",
    "\n",
    "        return x"
   ]
  },
  {
   "cell_type": "markdown",
   "metadata": {},
   "source": [
    "# Train the network\n",
    "\n",
    "Now you should create your network and train it. First you'll want to define [the criterion](http://pytorch.org/docs/master/nn.html#loss-functions) ( something like `nn.CrossEntropyLoss`) and [the optimizer](http://pytorch.org/docs/master/optim.html) (typically `optim.SGD` or `optim.Adam`).\n",
    "\n",
    "Then write the training code. Remember the training pass is a fairly straightforward process:\n",
    "\n",
    "* Make a forward pass through the network to get the logits \n",
    "* Use the logits to calculate the loss\n",
    "* Perform a backward pass through the network with `loss.backward()` to calculate the gradients\n",
    "* Take a step with the optimizer to update the weights\n",
    "\n",
    "By adjusting the hyperparameters (hidden units, learning rate, etc), you should be able to get the training loss below 0.4."
   ]
  },
  {
   "cell_type": "code",
   "execution_count": 36,
   "metadata": {},
   "outputs": [],
   "source": [
    "# TODO: Create the network, define the criterion and optimizer\n",
    "model = Classifier()\n",
    "# Use cuda\n",
    "model.cuda()\n",
    "\n",
    "# Define the criterion and optimizer\n",
    "criterion = nn.NLLLoss()\n",
    "optimizer = optim.Adam(model.parameters(), lr=0.003)"
   ]
  },
  {
   "cell_type": "code",
   "execution_count": 37,
   "metadata": {},
   "outputs": [
    {
     "output_type": "stream",
     "name": "stdout",
     "text": [
      "Training loss: 0.5174597223748022 [Time elapsed: 9.719588994979858 secs]\n",
      "Training loss: 0.3923713559312607 [Time elapsed: 9.70532774925232 secs]\n",
      "Training loss: 0.35600732027022824 [Time elapsed: 9.89864206314087 secs]\n",
      "Training loss: 0.33156090620547723 [Time elapsed: 9.796330213546753 secs]\n",
      "Training loss: 0.3193452375561698 [Time elapsed: 9.715836524963379 secs]\n"
     ]
    }
   ],
   "source": [
    "import time\n",
    "\n",
    "# TODO: Train the network here\n",
    "epochs = 5\n",
    "\n",
    "now = time.time()\n",
    "\n",
    "for e in range(epochs):\n",
    "    running_loss = 0\n",
    "    for images, labels in trainloader:\n",
    "        optimizer.zero_grad()\n",
    "\n",
    "        output = model(images.cuda())\n",
    "        loss = criterion(output, labels.cuda())\n",
    "\n",
    "        loss.backward()\n",
    "        optimizer.step()\n",
    "\n",
    "        running_loss += loss.item()\n",
    "    else:\n",
    "        now, then = time.time(), now\n",
    "        print(f\"Training loss: {running_loss/len(trainloader)} [Time elapsed: {now-then} secs]\")"
   ]
  },
  {
   "cell_type": "code",
   "execution_count": 47,
   "metadata": {},
   "outputs": [
    {
     "output_type": "display_data",
     "data": {
      "text/plain": "<Figure size 432x648 with 2 Axes>",
      "image/png": "[encoded data removed]"
     },
     "metadata": {
      "image/png": {
       "width": 424,
       "height": 216
      },
      "needs_background": "light"
     }
    }
   ],
   "source": [
    "%matplotlib inline\n",
    "%config InlineBackend.figure_format = 'retina'\n",
    "\n",
    "import helper\n",
    "\n",
    "# Test out your network!\n",
    "\n",
    "dataiter = iter(testloader)\n",
    "images, labels = dataiter.next()\n",
    "img = images[0]\n",
    "# Convert 2D image to 1D vector\n",
    "img = img.view(img.shape[0], -1)\n",
    "\n",
    "# TODO: Calculate the class probabilities (softmax) for img\n",
    "ps = torch.exp(model(img.cuda()))\n",
    "\n",
    "# Plot the image and probabilities\n",
    "helper.view_classify(img.cpu().resize_(1, 28, 28), ps.cpu(), version='Fashion')"
   ]
  },
  {
   "cell_type": "code",
   "execution_count": null,
   "metadata": {},
   "outputs": [],
   "source": []
  }
 ],
 "metadata": {
  "kernelspec": {
   "display_name": "Python 3",
   "language": "python",
   "name": "python3"
  },
  "language_info": {
   "codemirror_mode": {
    "name": "ipython",
    "version": 3
   },
   "file_extension": ".py",
   "mimetype": "text/x-python",
   "name": "python",
   "nbconvert_exporter": "python",
   "pygments_lexer": "ipython3",
   "version": "3.7.9-final"
  }
 },
 "nbformat": 4,
 "nbformat_minor": 2
}