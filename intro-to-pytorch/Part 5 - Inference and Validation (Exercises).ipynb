{
 "cells": [
  {
   "cell_type": "markdown",
   "metadata": {},
   "source": [
    "# Inference and Validation\n",
    "\n",
    "Now that you have a trained network, you can use it for making predictions. This is typically called **inference**, a term borrowed from statistics. However, neural networks have a tendency to perform *too well* on the training data and aren't able to generalize to data that hasn't been seen before. This is called **overfitting** and it impairs inference performance. To test for overfitting while training, we measure the performance on data not in the training set called the **validation** set. We avoid overfitting through regularization such as dropout while monitoring the validation performance during training. In this notebook, I'll show you how to do this in PyTorch. \n",
    "\n",
    "As usual, let's start by loading the dataset through torchvision. You'll learn more about torchvision and loading data in a later part. This time we'll be taking advantage of the test set which you can get by setting `train=False` here:\n",
    "\n",
    "```python\n",
    "testset = datasets.FashionMNIST('~/.pytorch/F_MNIST_data/', download=True, train=False, transform=transform)\n",
    "```\n",
    "\n",
    "The test set contains images just like the training set. Typically you'll see 10-20% of the original dataset held out for testing and validation with the rest being used for training."
   ]
  },
  {
   "cell_type": "code",
   "execution_count": 1,
   "metadata": {},
   "outputs": [],
   "source": [
    "import torch\n",
    "from torchvision import datasets, transforms\n",
    "\n",
    "# Define a transform to normalize the data\n",
    "transform = transforms.Compose([transforms.ToTensor(),\n",
    "                                transforms.Normalize((0.5,), (0.5,))])\n",
    "# Download and load the training data\n",
    "trainset = datasets.FashionMNIST('~/.pytorch/F_MNIST_data/', download=True, train=True, transform=transform)\n",
    "trainloader = torch.utils.data.DataLoader(trainset, batch_size=64, shuffle=True)\n",
    "\n",
    "# Download and load the test data\n",
    "testset = datasets.FashionMNIST('~/.pytorch/F_MNIST_data/', download=True, train=False, transform=transform)\n",
    "testloader = torch.utils.data.DataLoader(testset, batch_size=64, shuffle=True)"
   ]
  },
  {
   "cell_type": "markdown",
   "metadata": {},
   "source": [
    "Here I'll create a model like normal, using the same one from my solution for part 4."
   ]
  },
  {
   "cell_type": "code",
   "execution_count": 2,
   "metadata": {},
   "outputs": [],
   "source": [
    "from torch import nn, optim\n",
    "import torch.nn.functional as F\n",
    "\n",
    "class Classifier(nn.Module):\n",
    "    def __init__(self):\n",
    "        super().__init__()\n",
    "        self.fc1 = nn.Linear(784, 256)\n",
    "        self.fc2 = nn.Linear(256, 128)\n",
    "        self.fc3 = nn.Linear(128, 64)\n",
    "        self.fc4 = nn.Linear(64, 10)\n",
    "        \n",
    "    def forward(self, x):\n",
    "        # make sure input tensor is flattened\n",
    "        x = x.view(x.shape[0], -1)\n",
    "        \n",
    "        x = F.relu(self.fc1(x))\n",
    "        x = F.relu(self.fc2(x))\n",
    "        x = F.relu(self.fc3(x))\n",
    "        x = F.log_softmax(self.fc4(x), dim=1)\n",
    "        \n",
    "        return x"
   ]
  },
  {
   "cell_type": "markdown",
   "metadata": {},
   "source": [
    "The goal of validation is to measure the model's performance on data that isn't part of the training set. Performance here is up to the developer to define though. Typically this is just accuracy, the percentage of classes the network predicted correctly. Other options are [precision and recall](https://en.wikipedia.org/wiki/Precision_and_recall#Definition_(classification_context)) and top-5 error rate. We'll focus on accuracy here. First I'll do a forward pass with one batch from the test set."
   ]
  },
  {
   "cell_type": "code",
   "execution_count": 3,
   "metadata": {},
   "outputs": [
    {
     "output_type": "stream",
     "name": "stdout",
     "text": [
      "torch.Size([64, 10])\n"
     ]
    }
   ],
   "source": [
    "model = Classifier()\n",
    "\n",
    "images, labels = next(iter(testloader))\n",
    "# Get the class probabilities\n",
    "ps = torch.exp(model(images))\n",
    "# Make sure the shape is appropriate, we should get 10 class probabilities for 64 examples\n",
    "print(ps.shape)"
   ]
  },
  {
   "cell_type": "markdown",
   "metadata": {},
   "source": [
    "With the probabilities, we can get the most likely class using the `ps.topk` method. This returns the $k$ highest values. Since we just want the most likely class, we can use `ps.topk(1)`. This returns a tuple of the top-$k$ values and the top-$k$ indices. If the highest value is the fifth element, we'll get back 4 as the index."
   ]
  },
  {
   "cell_type": "code",
   "execution_count": 4,
   "metadata": {},
   "outputs": [
    {
     "output_type": "stream",
     "name": "stdout",
     "text": [
      "tensor([[7],\n        [7],\n        [7],\n        [7],\n        [7],\n        [7],\n        [7],\n        [7],\n        [7],\n        [7]])\n"
     ]
    }
   ],
   "source": [
    "top_p, top_class = ps.topk(1, dim=1)\n",
    "# Look at the most likely classes for the first 10 examples\n",
    "print(top_class[:10,:])"
   ]
  },
  {
   "cell_type": "markdown",
   "metadata": {},
   "source": [
    "Now we can check if the predicted classes match the labels. This is simple to do by equating `top_class` and `labels`, but we have to be careful of the shapes. Here `top_class` is a 2D tensor with shape `(64, 1)` while `labels` is 1D with shape `(64)`. To get the equality to work out the way we want, `top_class` and `labels` must have the same shape.\n",
    "\n",
    "If we do\n",
    "\n",
    "```python\n",
    "equals = top_class == labels\n",
    "```\n",
    "\n",
    "`equals` will have shape `(64, 64)`, try it yourself. What it's doing is comparing the one element in each row of `top_class` with each element in `labels` which returns 64 True/False boolean values for each row."
   ]
  },
  {
   "cell_type": "code",
   "execution_count": 5,
   "metadata": {},
   "outputs": [],
   "source": [
    "equals = top_class == labels.view(*top_class.shape)"
   ]
  },
  {
   "cell_type": "code",
   "execution_count": 10,
   "metadata": {},
   "outputs": [
    {
     "output_type": "execute_result",
     "data": {
      "text/plain": [
       "tensor([[False],\n",
       "        [ True],\n",
       "        [False],\n",
       "        [False],\n",
       "        [False]])"
      ]
     },
     "metadata": {},
     "execution_count": 10
    }
   ],
   "source": [
    "equals[:5].type(torch.FloatTensor)\n",
    "equals[:5]"
   ]
  },
  {
   "cell_type": "markdown",
   "metadata": {},
   "source": [
    "Now we need to calculate the percentage of correct predictions. `equals` has binary values, either 0 or 1. This means that if we just sum up all the values and divide by the number of values, we get the percentage of correct predictions. This is the same operation as taking the mean, so we can get the accuracy with a call to `torch.mean`. If only it was that simple. If you try `torch.mean(equals)`, you'll get an error\n",
    "\n",
    "```\n",
    "RuntimeError: mean is not implemented for type torch.ByteTensor\n",
    "```\n",
    "\n",
    "This happens because `equals` has type `torch.ByteTensor` but `torch.mean` isn't implemented for tensors with that type. So we'll need to convert `equals` to a float tensor. Note that when we take `torch.mean` it returns a scalar tensor, to get the actual value as a float we'll need to do `accuracy.item()`."
   ]
  },
  {
   "cell_type": "code",
   "execution_count": 11,
   "metadata": {},
   "outputs": [
    {
     "output_type": "stream",
     "name": "stdout",
     "text": [
      "Accuracy: 6.25%\n"
     ]
    }
   ],
   "source": [
    "accuracy = torch.mean(equals.type(torch.FloatTensor))\n",
    "print(f'Accuracy: {accuracy.item()*100}%')"
   ]
  },
  {
   "cell_type": "markdown",
   "metadata": {},
   "source": [
    "The network is untrained so it's making random guesses and we should see an accuracy around 10%. Now let's train our network and include our validation pass so we can measure how well the network is performing on the test set. Since we're not updating our parameters in the validation pass, we can speed up our code by turning off gradients using `torch.no_grad()`:\n",
    "\n",
    "```python\n",
    "# turn off gradients\n",
    "with torch.no_grad():\n",
    "    # validation pass here\n",
    "    for images, labels in testloader:\n",
    "        ...\n",
    "```\n",
    "\n",
    ">**Exercise:** Implement the validation loop below and print out the total accuracy after the loop. You can largely copy and paste the code from above, but I suggest typing it in because writing it out yourself is essential for building the skill. In general you'll always learn more by typing it rather than copy-pasting. You should be able to get an accuracy above 80%."
   ]
  },
  {
   "cell_type": "code",
   "execution_count": 14,
   "metadata": {},
   "outputs": [
    {
     "output_type": "stream",
     "name": "stdout",
     "text": [
      "Epoch: 0\n",
      "Training Loss: 0.516101470824752\n",
      "Test Loss: 0.44032734632492065\n",
      "Accuracy: 84.22571420669556%\n",
      "Epoch: 1\n",
      "Training Loss: 0.39100387925977137\n",
      "Test Loss: 0.4167693257331848\n",
      "Accuracy: 85.3503167629242%\n",
      "Epoch: 2\n",
      "Training Loss: 0.35881198277828025\n",
      "Test Loss: 0.4476105868816376\n",
      "Accuracy: 84.57404375076294%\n",
      "Epoch: 3\n",
      "Training Loss: 0.33638677137619905\n",
      "Test Loss: 0.391165554523468\n",
      "Accuracy: 85.87778806686401%\n",
      "Epoch: 4\n",
      "Training Loss: 0.3162203890634879\n",
      "Test Loss: 0.3717884421348572\n",
      "Accuracy: 86.77348494529724%\n",
      "Epoch: 5\n",
      "Training Loss: 0.3070332455927375\n",
      "Test Loss: 0.3986808657646179\n",
      "Accuracy: 85.82802414894104%\n",
      "Epoch: 6\n",
      "Training Loss: 0.2932394398396203\n",
      "Test Loss: 0.38418298959732056\n",
      "Accuracy: 86.54458522796631%\n",
      "Epoch: 7\n",
      "Training Loss: 0.28549163609838435\n",
      "Test Loss: 0.3756508231163025\n",
      "Accuracy: 87.25119233131409%\n",
      "Epoch: 8\n",
      "Training Loss: 0.27461854953056714\n",
      "Test Loss: 0.37942078709602356\n",
      "Accuracy: 86.49482727050781%\n",
      "Epoch: 9\n",
      "Training Loss: 0.2689968270104704\n",
      "Test Loss: 0.4073725640773773\n",
      "Accuracy: 86.33558750152588%\n",
      "Epoch: 10\n",
      "Training Loss: 0.26603910262619\n",
      "Test Loss: 0.37169206142425537\n",
      "Accuracy: 87.26114630699158%\n",
      "Epoch: 11\n",
      "Training Loss: 0.2624931841500914\n",
      "Test Loss: 0.37747955322265625\n",
      "Accuracy: 87.74880766868591%\n",
      "Epoch: 12\n",
      "Training Loss: 0.2524235181605765\n",
      "Test Loss: 0.38488826155662537\n",
      "Accuracy: 87.69904375076294%\n",
      "Epoch: 13\n",
      "Training Loss: 0.24508551699218592\n",
      "Test Loss: 0.39821580052375793\n",
      "Accuracy: 87.46019005775452%\n",
      "Epoch: 14\n",
      "Training Loss: 0.24339300375789213\n",
      "Test Loss: 0.3698934316635132\n",
      "Accuracy: 87.66918778419495%\n",
      "Epoch: 15\n",
      "Training Loss: 0.23643483811699506\n",
      "Test Loss: 0.38053375482559204\n",
      "Accuracy: 87.53980994224548%\n",
      "Epoch: 16\n",
      "Training Loss: 0.2378204067958507\n",
      "Test Loss: 0.37630483508110046\n",
      "Accuracy: 87.75875568389893%\n",
      "Epoch: 17\n",
      "Training Loss: 0.22466162866207837\n",
      "Test Loss: 0.38006675243377686\n",
      "Accuracy: 87.8582775592804%\n",
      "Epoch: 18\n",
      "Training Loss: 0.22513126494136573\n",
      "Test Loss: 0.38377806544303894\n",
      "Accuracy: 87.95780539512634%\n",
      "Epoch: 19\n",
      "Training Loss: 0.2224130195253757\n",
      "Test Loss: 0.39697983860969543\n",
      "Accuracy: 87.470144033432%\n",
      "Epoch: 20\n",
      "Training Loss: 0.2181621094716828\n",
      "Test Loss: 0.4111073911190033\n",
      "Accuracy: 87.41043210029602%\n",
      "Epoch: 21\n",
      "Training Loss: 0.21397602689196307\n",
      "Test Loss: 0.3874658942222595\n",
      "Accuracy: 87.73885369300842%\n",
      "Epoch: 22\n",
      "Training Loss: 0.2048851413759532\n",
      "Test Loss: 0.4135912358760834\n",
      "Accuracy: 87.99760937690735%\n",
      "Epoch: 23\n",
      "Training Loss: 0.21481981628866337\n",
      "Test Loss: 0.40915647149086\n",
      "Accuracy: 87.470144033432%\n",
      "Epoch: 24\n",
      "Training Loss: 0.20211558264376386\n",
      "Test Loss: 0.42939242720603943\n",
      "Accuracy: 87.10191249847412%\n",
      "Epoch: 25\n",
      "Training Loss: 0.1978753234452403\n",
      "Test Loss: 0.4151592254638672\n",
      "Accuracy: 88.03741931915283%\n",
      "Epoch: 26\n",
      "Training Loss: 0.20031610211488535\n",
      "Test Loss: 0.3999047577381134\n",
      "Accuracy: 88.10708522796631%\n",
      "Epoch: 27\n",
      "Training Loss: 0.19451122976013466\n",
      "Test Loss: 0.41004273295402527\n",
      "Accuracy: 88.21656107902527%\n",
      "Epoch: 28\n",
      "Training Loss: 0.18769258307988074\n",
      "Test Loss: 0.4322914183139801\n",
      "Accuracy: 88.4255588054657%\n",
      "Epoch: 29\n",
      "Training Loss: 0.19224889167765183\n",
      "Test Loss: 0.38822320103645325\n",
      "Accuracy: 88.52508068084717%\n"
     ]
    }
   ],
   "source": [
    "model = Classifier()\n",
    "criterion = nn.NLLLoss()\n",
    "optimizer = optim.Adam(model.parameters(), lr=0.003)\n",
    "\n",
    "epochs = 30\n",
    "steps = 0\n",
    "\n",
    "train_losses, test_losses = [], []\n",
    "for e in range(epochs):\n",
    "    running_train_loss = 0\n",
    "    for images, labels in trainloader:\n",
    "        \n",
    "        optimizer.zero_grad()\n",
    "        \n",
    "        log_ps = model(images)\n",
    "        loss = criterion(log_ps, labels)\n",
    "        loss.backward()\n",
    "        optimizer.step()\n",
    "        \n",
    "        running_train_loss += loss.item()\n",
    "        \n",
    "    else:\n",
    "        ## TODO: Implement the validation pass and print out the validation accuracy\n",
    "\n",
    "        running_test_loss = 0\n",
    "        accuracy_sum = 0\n",
    "\n",
    "        with torch.no_grad():\n",
    "            for images, labels in testloader:\n",
    "                log_ps = model(images)\n",
    "                loss = criterion(log_ps, labels)\n",
    "                running_test_loss += loss\n",
    "\n",
    "                ps = torch.exp(log_ps)\n",
    "                top_p, top_class = ps.topk(1, dim=1)\n",
    "                equals = top_class == labels.view(*top_class.shape)\n",
    "                accuracy_sum += torch.mean(equals.type(torch.FloatTensor))\n",
    "\n",
    "        accuracy = accuracy_sum/len(testloader)\n",
    "        train_loss = running_train_loss/len(trainloader)\n",
    "        test_loss = running_test_loss/len(testloader)\n",
    "        \n",
    "        train_losses.append(train_loss)\n",
    "        test_losses.append(test_loss)\n",
    "\n",
    "        print(f'Epoch: {e}')\n",
    "        print(f'Training Loss: {train_loss}')\n",
    "        print(f'Test Loss: {test_loss}')\n",
    "        print(f'Accuracy: {accuracy.item()*100}%')"
   ]
  },
  {
   "cell_type": "code",
   "execution_count": 15,
   "metadata": {},
   "outputs": [
    {
     "output_type": "execute_result",
     "data": {
      "text/plain": [
       "<matplotlib.legend.Legend at 0x1cf8870e748>"
      ]
     },
     "metadata": {},
     "execution_count": 15
    },
    {
     "output_type": "display_data",
     "data": {
      "text/plain": "<Figure size 432x288 with 1 Axes>",
      "image/png": "[encoded data removed]"
     },
     "metadata": {
      "image/png": {
       "width": 380,
       "height": 248
      },
      "needs_background": "light"
     }
    }
   ],
   "source": [
    "%matplotlib inline\n",
    "%config InlineBackend.figure_format = 'retina'\n",
    "\n",
    "import matplotlib.pyplot as plt\n",
    "\n",
    "plt.plot(train_losses, label='Training loss')\n",
    "plt.plot(test_losses, label='Validation loss')\n",
    "plt.legend(frameon=False)"
   ]
  },
  {
   "cell_type": "markdown",
   "metadata": {},
   "source": [
    "## Overfitting\n",
    "\n",
    "If we look at the training and validation losses as we train the network, we can see a phenomenon known as overfitting.\n",
    "\n",
    "<img src='assets/overfitting.png' width=450px>\n",
    "\n",
    "The network learns the training set better and better, resulting in lower training losses. However, it starts having problems generalizing to data outside the training set leading to the validation loss increasing. The ultimate goal of any deep learning model is to make predictions on new data, so we should strive to get the lowest validation loss possible. One option is to use the version of the model with the lowest validation loss, here the one around 8-10 training epochs. This strategy is called *early-stopping*. In practice, you'd save the model frequently as you're training then later choose the model with the lowest validation loss.\n",
    "\n",
    "The most common method to reduce overfitting (outside of early-stopping) is *dropout*, where we randomly drop input units. This forces the network to share information between weights, increasing it's ability to generalize to new data. Adding dropout in PyTorch is straightforward using the [`nn.Dropout`](https://pytorch.org/docs/stable/nn.html#torch.nn.Dropout) module.\n",
    "\n",
    "```python\n",
    "class Classifier(nn.Module):\n",
    "    def __init__(self):\n",
    "        super().__init__()\n",
    "        self.fc1 = nn.Linear(784, 256)\n",
    "        self.fc2 = nn.Linear(256, 128)\n",
    "        self.fc3 = nn.Linear(128, 64)\n",
    "        self.fc4 = nn.Linear(64, 10)\n",
    "        \n",
    "        # Dropout module with 0.2 drop probability\n",
    "        self.dropout = nn.Dropout(p=0.2)\n",
    "        \n",
    "    def forward(self, x):\n",
    "        # make sure input tensor is flattened\n",
    "        x = x.view(x.shape[0], -1)\n",
    "        \n",
    "        # Now with dropout\n",
    "        x = self.dropout(F.relu(self.fc1(x)))\n",
    "        x = self.dropout(F.relu(self.fc2(x)))\n",
    "        x = self.dropout(F.relu(self.fc3(x)))\n",
    "        \n",
    "        # output so no dropout here\n",
    "        x = F.log_softmax(self.fc4(x), dim=1)\n",
    "        \n",
    "        return x\n",
    "```\n",
    "\n",
    "During training we want to use dropout to prevent overfitting, but during inference we want to use the entire network. So, we need to turn off dropout during validation, testing, and whenever we're using the network to make predictions. To do this, you use `model.eval()`. This sets the model to evaluation mode where the dropout probability is 0. You can turn dropout back on by setting the model to train mode with `model.train()`. In general, the pattern for the validation loop will look like this, where you turn off gradients, set the model to evaluation mode, calculate the validation loss and metric, then set the model back to train mode.\n",
    "\n",
    "```python\n",
    "# turn off gradients\n",
    "with torch.no_grad():\n",
    "    \n",
    "    # set model to evaluation mode\n",
    "    model.eval()\n",
    "    \n",
    "    # validation pass here\n",
    "    for images, labels in testloader:\n",
    "        ...\n",
    "\n",
    "# set model back to train mode\n",
    "model.train()\n",
    "```"
   ]
  },
  {
   "cell_type": "markdown",
   "metadata": {},
   "source": [
    "> **Exercise:** Add dropout to your model and train it on Fashion-MNIST again. See if you can get a lower validation loss or higher accuracy."
   ]
  },
  {
   "cell_type": "code",
   "execution_count": 16,
   "metadata": {},
   "outputs": [],
   "source": [
    "## TODO: Define your model with dropout added\n",
    "class Classifier(nn.Module):\n",
    "    def __init__(self):\n",
    "        super().__init__()\n",
    "        self.fc1 = nn.Linear(784, 256)\n",
    "        self.fc2 = nn.Linear(256, 128)\n",
    "        self.fc3 = nn.Linear(128, 64)\n",
    "        self.fc4 = nn.Linear(64, 10)\n",
    "\n",
    "        # Dropout module with 0.2 drop probability\n",
    "        self.dropout = nn.Dropout(p=0.2)\n",
    "\n",
    "    def forward(self, x):\n",
    "        # make sure input tensor is flattened\n",
    "        x = x.view(x.shape[0], -1)\n",
    "\n",
    "        # Now with dropout\n",
    "        x = self.dropout(F.relu(self.fc1(x)))\n",
    "        x = self.dropout(F.relu(self.fc2(x)))\n",
    "        x = self.dropout(F.relu(self.fc3(x)))\n",
    "\n",
    "        # output so no dropout here\n",
    "        x = F.log_softmax(self.fc4(x), dim=1)\n",
    "\n",
    "        return x"
   ]
  },
  {
   "cell_type": "code",
   "execution_count": 17,
   "metadata": {},
   "outputs": [
    {
     "output_type": "stream",
     "name": "stdout",
     "text": [
      "Epoch: 0\n",
      "Training Loss: 0.6040407316739371\n",
      "Test Loss: 0.4686852693557739\n",
      "Accuracy: 83.31010937690735%\n",
      "Epoch: 1\n",
      "Training Loss: 0.4854685781734076\n",
      "Test Loss: 0.43222683668136597\n",
      "Accuracy: 84.24562215805054%\n",
      "Epoch: 2\n",
      "Training Loss: 0.4512890209076501\n",
      "Test Loss: 0.4763919413089752\n",
      "Accuracy: 83.37977528572083%\n",
      "Epoch: 3\n",
      "Training Loss: 0.43395138929075777\n",
      "Test Loss: 0.4155394434928894\n",
      "Accuracy: 84.79299545288086%\n",
      "Epoch: 4\n",
      "Training Loss: 0.41983357152895634\n",
      "Test Loss: 0.394523948431015\n",
      "Accuracy: 86.03702187538147%\n",
      "Epoch: 5\n",
      "Training Loss: 0.411849231671677\n",
      "Test Loss: 0.3910021483898163\n",
      "Accuracy: 85.89769005775452%\n",
      "Epoch: 6\n",
      "Training Loss: 0.402980946369771\n",
      "Test Loss: 0.41278114914894104\n",
      "Accuracy: 85.33041477203369%\n",
      "Epoch: 7\n",
      "Training Loss: 0.4041164813837263\n",
      "Test Loss: 0.39546433091163635\n",
      "Accuracy: 86.2460196018219%\n",
      "Epoch: 8\n",
      "Training Loss: 0.39333947067226427\n",
      "Test Loss: 0.4054441452026367\n",
      "Accuracy: 85.82802414894104%\n",
      "Epoch: 9\n",
      "Training Loss: 0.3921044214066666\n",
      "Test Loss: 0.37749552726745605\n",
      "Accuracy: 86.49482727050781%\n",
      "Epoch: 10\n",
      "Training Loss: 0.3863617622776072\n",
      "Test Loss: 0.40834906697273254\n",
      "Accuracy: 85.05175113677979%\n",
      "Epoch: 11\n",
      "Training Loss: 0.3821233161635745\n",
      "Test Loss: 0.39098066091537476\n",
      "Accuracy: 86.2957775592804%\n",
      "Epoch: 12\n",
      "Training Loss: 0.3763185525610884\n",
      "Test Loss: 0.3968525826931\n",
      "Accuracy: 86.73368096351624%\n",
      "Epoch: 13\n",
      "Training Loss: 0.3746144974203125\n",
      "Test Loss: 0.37039709091186523\n",
      "Accuracy: 87.13176846504211%\n",
      "Epoch: 14\n",
      "Training Loss: 0.37407585459032544\n",
      "Test Loss: 0.39157307147979736\n",
      "Accuracy: 86.31568551063538%\n",
      "Epoch: 15\n",
      "Training Loss: 0.364518914069893\n",
      "Test Loss: 0.3798377215862274\n",
      "Accuracy: 87.1715784072876%\n",
      "Epoch: 16\n",
      "Training Loss: 0.36776455410762127\n",
      "Test Loss: 0.4009452164173126\n",
      "Accuracy: 85.68869233131409%\n",
      "Epoch: 17\n",
      "Training Loss: 0.3648532861108973\n",
      "Test Loss: 0.39766719937324524\n",
      "Accuracy: 86.53463125228882%\n",
      "Epoch: 18\n",
      "Training Loss: 0.3578296317728852\n",
      "Test Loss: 0.39545711874961853\n",
      "Accuracy: 86.2957775592804%\n",
      "Epoch: 19\n",
      "Training Loss: 0.36050687102811424\n",
      "Test Loss: 0.37109801173210144\n",
      "Accuracy: 87.57961988449097%\n",
      "Epoch: 20\n",
      "Training Loss: 0.3592259343197224\n",
      "Test Loss: 0.363025039434433\n",
      "Accuracy: 87.29100227355957%\n",
      "Epoch: 21\n",
      "Training Loss: 0.35709578886246884\n",
      "Test Loss: 0.3849501609802246\n",
      "Accuracy: 86.81329488754272%\n",
      "Epoch: 22\n",
      "Training Loss: 0.357928370766993\n",
      "Test Loss: 0.37183481454849243\n",
      "Accuracy: 87.30095624923706%\n",
      "Epoch: 23\n",
      "Training Loss: 0.35477176125147447\n",
      "Test Loss: 0.386480450630188\n",
      "Accuracy: 87.24124431610107%\n",
      "Epoch: 24\n",
      "Training Loss: 0.3465419024117847\n",
      "Test Loss: 0.37919238209724426\n",
      "Accuracy: 87.28104829788208%\n",
      "Epoch: 25\n",
      "Training Loss: 0.35120170947903\n",
      "Test Loss: 0.3706277012825012\n",
      "Accuracy: 87.11186051368713%\n",
      "Epoch: 26\n",
      "Training Loss: 0.3466485758929619\n",
      "Test Loss: 0.3667937219142914\n",
      "Accuracy: 87.1417224407196%\n",
      "Epoch: 27\n",
      "Training Loss: 0.3447078439647328\n",
      "Test Loss: 0.37614011764526367\n",
      "Accuracy: 87.8582775592804%\n",
      "Epoch: 28\n",
      "Training Loss: 0.3464735199028114\n",
      "Test Loss: 0.3725552558898926\n",
      "Accuracy: 86.99243664741516%\n",
      "Epoch: 29\n",
      "Training Loss: 0.34841734960452836\n",
      "Test Loss: 0.3667537569999695\n",
      "Accuracy: 87.76870965957642%\n"
     ]
    }
   ],
   "source": [
    "## TODO: Train your model with dropout, and monitor the training progress with the validation loss and accuracy\n",
    "model = Classifier()\n",
    "criterion = nn.NLLLoss()\n",
    "optimizer = optim.Adam(model.parameters(), lr=0.003)\n",
    "\n",
    "epochs = 30\n",
    "steps = 0\n",
    "\n",
    "train_losses, test_losses = [], []\n",
    "for e in range(epochs):\n",
    "    running_train_loss = 0\n",
    "    for images, labels in trainloader:\n",
    "        \n",
    "        optimizer.zero_grad()\n",
    "        \n",
    "        log_ps = model(images)\n",
    "        loss = criterion(log_ps, labels)\n",
    "        loss.backward()\n",
    "        optimizer.step()\n",
    "        \n",
    "        running_train_loss += loss.item()\n",
    "        \n",
    "    else:\n",
    "        ## TODO: Implement the validation pass and print out the validation accuracy\n",
    "\n",
    "        running_test_loss = 0\n",
    "        accuracy_sum = 0\n",
    "\n",
    "        with torch.no_grad():\n",
    "            # set model to evaluation mode\n",
    "            model.eval()\n",
    "            \n",
    "            for images, labels in testloader:\n",
    "                log_ps = model(images)\n",
    "                loss = criterion(log_ps, labels)\n",
    "                running_test_loss += loss\n",
    "\n",
    "                ps = torch.exp(log_ps)\n",
    "                top_p, top_class = ps.topk(1, dim=1)\n",
    "                equals = top_class == labels.view(*top_class.shape)\n",
    "                accuracy_sum += torch.mean(equals.type(torch.FloatTensor))\n",
    "\n",
    "        # set model back to train mode\n",
    "        model.train()    \n",
    "\n",
    "        accuracy = accuracy_sum/len(testloader)\n",
    "        train_loss = running_train_loss/len(trainloader)\n",
    "        test_loss = running_test_loss/len(testloader)\n",
    "        \n",
    "        train_losses.append(train_loss)\n",
    "        test_losses.append(test_loss)\n",
    "\n",
    "        print(f'Epoch: {e}')\n",
    "        print(f'Training Loss: {train_loss}')\n",
    "        print(f'Test Loss: {test_loss}')\n",
    "        print(f'Accuracy: {accuracy.item()*100}%')"
   ]
  },
  {
   "cell_type": "markdown",
   "metadata": {},
   "source": [
    "## Inference\n",
    "\n",
    "Now that the model is trained, we can use it for inference. We've done this before, but now we need to remember to set the model in inference mode with `model.eval()`. You'll also want to turn off autograd with the `torch.no_grad()` context."
   ]
  },
  {
   "cell_type": "code",
   "execution_count": 23,
   "metadata": {},
   "outputs": [
    {
     "output_type": "display_data",
     "data": {
      "text/plain": "<Figure size 432x648 with 2 Axes>",
      "image/png": "[encoded data removed]"
     },
     "metadata": {
      "image/png": {
       "width": 424,
       "height": 216
      },
      "needs_background": "light"
     }
    }
   ],
   "source": [
    "# Import helper module (should be in the repo)\n",
    "import helper\n",
    "\n",
    "# Test out your network!\n",
    "\n",
    "model.eval()\n",
    "\n",
    "dataiter = iter(testloader)\n",
    "images, labels = dataiter.next()\n",
    "img = images[0]\n",
    "# Convert 2D image to 1D vector\n",
    "img = img.view(1, 784)\n",
    "\n",
    "# Calculate the class probabilities (softmax) for img\n",
    "with torch.no_grad():\n",
    "    output = model.forward(img)\n",
    "\n",
    "ps = torch.exp(output)\n",
    "\n",
    "# Plot the image and probabilities\n",
    "helper.view_classify(img.view(1, 28, 28), ps, version='Fashion')"
   ]
  },
  {
   "cell_type": "markdown",
   "metadata": {},
   "source": [
    "## Next Up!\n",
    "\n",
    "In the next part, I'll show you how to save your trained models. In general, you won't want to train a model everytime you need it. Instead, you'll train once, save it, then load the model when you want to train more or use if for inference."
   ]
  }
 ],
 "metadata": {
  "kernelspec": {
   "display_name": "Python 3",
   "language": "python",
   "name": "python3"
  },
  "language_info": {
   "codemirror_mode": {
    "name": "ipython",
    "version": 3
   },
   "file_extension": ".py",
   "mimetype": "text/x-python",
   "name": "python",
   "nbconvert_exporter": "python",
   "pygments_lexer": "ipython3",
   "version": "3.7.9-final"
  }
 },
 "nbformat": 4,
 "nbformat_minor": 2
}